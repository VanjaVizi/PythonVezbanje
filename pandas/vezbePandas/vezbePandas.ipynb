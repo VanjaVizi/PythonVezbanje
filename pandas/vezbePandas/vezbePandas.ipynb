{
 "cells": [
  {
   "cell_type": "markdown",
   "metadata": {
    "pycharm": {
     "name": "#%% md\n"
    }
   },
   "source": [
    "# Uvod u Pandas\n",
    "\n",
    "Napomena: Ovi materijali su delimično bazirani na pandas tutorijalu Keith Galli-a [\"Solving real world data science tasks with Python Pandas!\"](https://github.com/KeithGalli/Pandas-Data-Science-Tasks). Takođe, dataset koji ćemo koristiti - [Sales dataset](https://github.com/KeithGalli/Pandas-Data-Science-Tasks/tree/master/SalesAnalysis/Sales_Data) - je preuzet iz pomenutog tutorijala."
   ]
  },
  {
   "cell_type": "markdown",
   "metadata": {
    "pycharm": {
     "name": "#%% md\n"
    }
   },
   "source": [
    "## Učitavanje potrebnih biblioteka"
   ]
  },
  {
   "cell_type": "code",
   "execution_count": 1,
   "metadata": {
    "pycharm": {
     "name": "#%%\n"
    },
    "ExecuteTime": {
     "end_time": "2024-05-31T15:05:17.203331Z",
     "start_time": "2024-05-31T15:05:16.231556Z"
    }
   },
   "outputs": [],
   "source": [
    "import pandas as pd\n",
    "import matplotlib.pyplot as plt\n",
    "\n",
    "from pathlib import Path"
   ]
  },
  {
   "cell_type": "markdown",
   "metadata": {
    "pycharm": {
     "name": "#%% md\n"
    }
   },
   "source": [
    "## Učitavanje podataka i upoznavanje sa podacima o prodaji za jedan mesec "
   ]
  },
  {
   "cell_type": "markdown",
   "metadata": {
    "pycharm": {
     "name": "#%% md\n"
    }
   },
   "source": [
    "### Učitavanja podataka iz csv fajla\n",
    "\n",
    "Podaci se nalaze u 'sales_data' direktorijumu, u okviru 'data' direktorijuma. \n",
    "Prvo ćemo kreirati DATA_DIR konstantu koja će sadržati putanju do direktorijuma sa podacima   "
   ]
  },
  {
   "cell_type": "code",
   "execution_count": 2,
   "outputs": [],
   "source": [
    "DATA_DIR = Path.cwd() /'venv'/'pandas'/'vezbePandas'/ 'data' / 'sales_data'"
   ],
   "metadata": {
    "collapsed": false,
    "pycharm": {
     "name": "#%%\n"
    },
    "ExecuteTime": {
     "end_time": "2024-05-31T15:05:17.206564Z",
     "start_time": "2024-05-31T15:05:17.203331Z"
    }
   }
  },
  {
   "cell_type": "markdown",
   "metadata": {
    "pycharm": {
     "name": "#%% md\n"
    }
   },
   "source": [
    "Zatim ćemo učitati podatke iz 'Sales_January_2019' csv fajla: "
   ]
  },
  {
   "cell_type": "code",
   "execution_count": 3,
   "metadata": {
    "pycharm": {
     "name": "#%%\n"
    },
    "ExecuteTime": {
     "end_time": "2024-05-31T15:05:17.683928Z",
     "start_time": "2024-05-31T15:05:17.666448Z"
    }
   },
   "outputs": [],
   "source": [
    "jan_sales = pd.read_csv(DATA_DIR / 'Sales_January_2019.csv')"
   ]
  },
  {
   "cell_type": "markdown",
   "metadata": {
    "pycharm": {
     "name": "#%% md\n"
    }
   },
   "source": [
    "### Upoznavanje sa podacima \n",
    "\n",
    "Prikazati prvih 10 redova učitanog dataset-a"
   ]
  },
  {
   "cell_type": "code",
   "execution_count": 4,
   "outputs": [
    {
     "data": {
      "text/plain": "  Order ID                     Product Quantity Ordered Price Each  \\\n0   141234                      iPhone                1        700   \n1   141235    Lightning Charging Cable                1      14.95   \n2   141236            Wired Headphones                2      11.99   \n3   141237            27in FHD Monitor                1     149.99   \n4   141238            Wired Headphones                1      11.99   \n5   141239      AAA Batteries (4-pack)                1       2.99   \n6   141240      27in 4K Gaming Monitor                1     389.99   \n7   141241        USB-C Charging Cable                1      11.95   \n8   141242  Bose SoundSport Headphones                1      99.99   \n9   141243    Apple Airpods Headphones                1        150   \n\n       Order Date                         Purchase Address  \n0  01/22/19 21:25          944 Walnut St, Boston, MA 02215  \n1  01/28/19 14:15         185 Maple St, Portland, OR 97035  \n2  01/17/19 13:33    538 Adams St, San Francisco, CA 94016  \n3  01/05/19 20:33       738 10th St, Los Angeles, CA 90001  \n4  01/25/19 11:59            387 10th St, Austin, TX 73301  \n5  01/29/19 20:22   775 Willow St, San Francisco, CA 94016  \n6  01/26/19 12:16       979 Park St, Los Angeles, CA 90001  \n7  01/05/19 12:04      181 6th St, San Francisco, CA 94016  \n8  01/01/19 10:30     867 Willow St, Los Angeles, CA 90001  \n9  01/22/19 21:20  657 Johnson St, San Francisco, CA 94016  ",
      "text/html": "<div>\n<style scoped>\n    .dataframe tbody tr th:only-of-type {\n        vertical-align: middle;\n    }\n\n    .dataframe tbody tr th {\n        vertical-align: top;\n    }\n\n    .dataframe thead th {\n        text-align: right;\n    }\n</style>\n<table border=\"1\" class=\"dataframe\">\n  <thead>\n    <tr style=\"text-align: right;\">\n      <th></th>\n      <th>Order ID</th>\n      <th>Product</th>\n      <th>Quantity Ordered</th>\n      <th>Price Each</th>\n      <th>Order Date</th>\n      <th>Purchase Address</th>\n    </tr>\n  </thead>\n  <tbody>\n    <tr>\n      <th>0</th>\n      <td>141234</td>\n      <td>iPhone</td>\n      <td>1</td>\n      <td>700</td>\n      <td>01/22/19 21:25</td>\n      <td>944 Walnut St, Boston, MA 02215</td>\n    </tr>\n    <tr>\n      <th>1</th>\n      <td>141235</td>\n      <td>Lightning Charging Cable</td>\n      <td>1</td>\n      <td>14.95</td>\n      <td>01/28/19 14:15</td>\n      <td>185 Maple St, Portland, OR 97035</td>\n    </tr>\n    <tr>\n      <th>2</th>\n      <td>141236</td>\n      <td>Wired Headphones</td>\n      <td>2</td>\n      <td>11.99</td>\n      <td>01/17/19 13:33</td>\n      <td>538 Adams St, San Francisco, CA 94016</td>\n    </tr>\n    <tr>\n      <th>3</th>\n      <td>141237</td>\n      <td>27in FHD Monitor</td>\n      <td>1</td>\n      <td>149.99</td>\n      <td>01/05/19 20:33</td>\n      <td>738 10th St, Los Angeles, CA 90001</td>\n    </tr>\n    <tr>\n      <th>4</th>\n      <td>141238</td>\n      <td>Wired Headphones</td>\n      <td>1</td>\n      <td>11.99</td>\n      <td>01/25/19 11:59</td>\n      <td>387 10th St, Austin, TX 73301</td>\n    </tr>\n    <tr>\n      <th>5</th>\n      <td>141239</td>\n      <td>AAA Batteries (4-pack)</td>\n      <td>1</td>\n      <td>2.99</td>\n      <td>01/29/19 20:22</td>\n      <td>775 Willow St, San Francisco, CA 94016</td>\n    </tr>\n    <tr>\n      <th>6</th>\n      <td>141240</td>\n      <td>27in 4K Gaming Monitor</td>\n      <td>1</td>\n      <td>389.99</td>\n      <td>01/26/19 12:16</td>\n      <td>979 Park St, Los Angeles, CA 90001</td>\n    </tr>\n    <tr>\n      <th>7</th>\n      <td>141241</td>\n      <td>USB-C Charging Cable</td>\n      <td>1</td>\n      <td>11.95</td>\n      <td>01/05/19 12:04</td>\n      <td>181 6th St, San Francisco, CA 94016</td>\n    </tr>\n    <tr>\n      <th>8</th>\n      <td>141242</td>\n      <td>Bose SoundSport Headphones</td>\n      <td>1</td>\n      <td>99.99</td>\n      <td>01/01/19 10:30</td>\n      <td>867 Willow St, Los Angeles, CA 90001</td>\n    </tr>\n    <tr>\n      <th>9</th>\n      <td>141243</td>\n      <td>Apple Airpods Headphones</td>\n      <td>1</td>\n      <td>150</td>\n      <td>01/22/19 21:20</td>\n      <td>657 Johnson St, San Francisco, CA 94016</td>\n    </tr>\n  </tbody>\n</table>\n</div>"
     },
     "execution_count": 4,
     "metadata": {},
     "output_type": "execute_result"
    }
   ],
   "source": [
    "jan_sales.head(10)"
   ],
   "metadata": {
    "collapsed": false,
    "ExecuteTime": {
     "end_time": "2024-05-31T15:05:20.353909Z",
     "start_time": "2024-05-31T15:05:20.346344Z"
    }
   }
  },
  {
   "cell_type": "markdown",
   "metadata": {
    "pycharm": {
     "name": "#%% md\n"
    }
   },
   "source": [
    "Utvrditi dimenzije data frame-a (broj redova i kolona)"
   ]
  },
  {
   "cell_type": "code",
   "execution_count": 14,
   "metadata": {
    "pycharm": {
     "name": "#%%\n"
    },
    "ExecuteTime": {
     "end_time": "2024-05-30T18:07:59.097512Z",
     "start_time": "2024-05-30T18:07:59.093912Z"
    }
   },
   "outputs": [
    {
     "data": {
      "text/plain": "(9723, 6)"
     },
     "execution_count": 14,
     "metadata": {},
     "output_type": "execute_result"
    }
   ],
   "source": [
    "jan_sales.shape"
   ]
  },
  {
   "cell_type": "markdown",
   "metadata": {
    "pycharm": {
     "name": "#%% md\n"
    }
   },
   "source": [
    "Ispisati listu naziva kolona data frame-a"
   ]
  },
  {
   "cell_type": "code",
   "execution_count": 16,
   "metadata": {
    "pycharm": {
     "name": "#%%\n"
    },
    "ExecuteTime": {
     "end_time": "2024-05-30T18:08:17.343442Z",
     "start_time": "2024-05-30T18:08:17.340266Z"
    }
   },
   "outputs": [
    {
     "data": {
      "text/plain": "array(['Order ID', 'Product', 'Quantity Ordered', 'Price Each',\n       'Order Date', 'Purchase Address'], dtype=object)"
     },
     "execution_count": 16,
     "metadata": {},
     "output_type": "execute_result"
    }
   ],
   "source": [
    "jan_sales.columns.values"
   ]
  },
  {
   "cell_type": "markdown",
   "metadata": {
    "pycharm": {
     "name": "#%% md\n"
    }
   },
   "source": [
    "Utvrditi tip podatka svake kolone "
   ]
  },
  {
   "cell_type": "code",
   "execution_count": 17,
   "metadata": {
    "pycharm": {
     "name": "#%%\n"
    },
    "ExecuteTime": {
     "end_time": "2024-05-30T18:08:24.395725Z",
     "start_time": "2024-05-30T18:08:24.391884Z"
    }
   },
   "outputs": [
    {
     "data": {
      "text/plain": "Order ID            object\nProduct             object\nQuantity Ordered    object\nPrice Each          object\nOrder Date          object\nPurchase Address    object\ndtype: object"
     },
     "execution_count": 17,
     "metadata": {},
     "output_type": "execute_result"
    }
   ],
   "source": [
    "jan_sales.dtypes"
   ]
  },
  {
   "cell_type": "markdown",
   "metadata": {
    "pycharm": {
     "name": "#%% md\n"
    }
   },
   "source": [
    "Lep pregled tipova podataka u pandas-u, uključujući i njihovo mapiranje na python tipove podataka, može se naći, na primer, ovde: [https://pbpython.com/pandas_dtypes.html](https://pbpython.com/pandas_dtypes.html)."
   ]
  },
  {
   "cell_type": "markdown",
   "metadata": {
    "pycharm": {
     "name": "#%% md\n"
    }
   },
   "source": [
    "Kompletan skup informacija o data frame-u:"
   ]
  },
  {
   "cell_type": "code",
   "execution_count": 18,
   "metadata": {
    "pycharm": {
     "name": "#%%\n"
    },
    "ExecuteTime": {
     "end_time": "2024-05-30T18:08:57.148176Z",
     "start_time": "2024-05-30T18:08:57.140148Z"
    }
   },
   "outputs": [
    {
     "name": "stdout",
     "output_type": "stream",
     "text": [
      "<class 'pandas.core.frame.DataFrame'>\n",
      "RangeIndex: 9723 entries, 0 to 9722\n",
      "Data columns (total 6 columns):\n",
      " #   Column            Non-Null Count  Dtype \n",
      "---  ------            --------------  ----- \n",
      " 0   Order ID          9697 non-null   object\n",
      " 1   Product           9697 non-null   object\n",
      " 2   Quantity Ordered  9697 non-null   object\n",
      " 3   Price Each        9697 non-null   object\n",
      " 4   Order Date        9697 non-null   object\n",
      " 5   Purchase Address  9697 non-null   object\n",
      "dtypes: object(6)\n",
      "memory usage: 455.9+ KB\n"
     ]
    }
   ],
   "source": [
    "jan_sales.info()"
   ]
  },
  {
   "cell_type": "markdown",
   "metadata": {
    "pycharm": {
     "name": "#%% md\n"
    }
   },
   "source": [
    "### Provera nedostajućih vrednosti\n",
    "\n",
    "Prisustvo nedostajućih vrednosti u data frame-u može se ispitati primenom `isna()` metode:"
   ]
  },
  {
   "cell_type": "code",
   "execution_count": 19,
   "metadata": {
    "pycharm": {
     "name": "#%%\n"
    },
    "ExecuteTime": {
     "end_time": "2024-05-30T18:10:41.256380Z",
     "start_time": "2024-05-30T18:10:41.250321Z"
    }
   },
   "outputs": [
    {
     "data": {
      "text/plain": "Order ID            26\nProduct             26\nQuantity Ordered    26\nPrice Each          26\nOrder Date          26\nPurchase Address    26\ndtype: int64"
     },
     "execution_count": 19,
     "metadata": {},
     "output_type": "execute_result"
    }
   ],
   "source": [
    "jan_sales.isna().sum()"
   ]
  },
  {
   "cell_type": "markdown",
   "metadata": {
    "pycharm": {
     "name": "#%% md\n"
    }
   },
   "source": [
    "#### Uklanjanje redova sa svim nedostajućim vrednostima"
   ]
  },
  {
   "cell_type": "code",
   "execution_count": 5,
   "metadata": {
    "pycharm": {
     "name": "#%%\n"
    },
    "ExecuteTime": {
     "end_time": "2024-05-31T15:05:27.810504Z",
     "start_time": "2024-05-31T15:05:27.805744Z"
    }
   },
   "outputs": [],
   "source": [
    "jan_sales.dropna(how='all', inplace=True)"
   ]
  },
  {
   "cell_type": "code",
   "execution_count": 6,
   "metadata": {
    "pycharm": {
     "name": "#%%\n"
    },
    "ExecuteTime": {
     "end_time": "2024-05-31T15:05:28.971535Z",
     "start_time": "2024-05-31T15:05:28.966882Z"
    }
   },
   "outputs": [
    {
     "data": {
      "text/plain": "0"
     },
     "execution_count": 6,
     "metadata": {},
     "output_type": "execute_result"
    }
   ],
   "source": [
    "jan_sales.isna().sum().sum()"
   ]
  },
  {
   "cell_type": "markdown",
   "metadata": {
    "pycharm": {
     "name": "#%% md\n"
    }
   },
   "source": [
    "### Selekcija pojedinačnih kolona i redova i kreiranje podskupa podataka\n",
    "\n",
    "Selekcija kolona i redova, odnosno kreiranje podskupa podataka, se može uraditi na različite načine, ali je preporučena praksa da se koriste `loc` ili `iloc` metode pandas Dataframe-a i to na sledeći način:\n",
    "\n",
    "- Kada se selekcija redova i kolona vrši izbor na osnovu njihovog rednog broja, trebalo bi koristiti `iloc`\n",
    "\n",
    "- Kada se izbor zasniva na uslovu koje redovi treba da zadovolje i/ili kolone treba izabrati na osnovu njihovih naziva, treba koristiti `loc` "
   ]
  },
  {
   "cell_type": "markdown",
   "metadata": {
    "pycharm": {
     "name": "#%% md\n"
    }
   },
   "source": [
    "**Primer 1**: selektovati prve 3 kolone i prvih 6 redova"
   ]
  },
  {
   "cell_type": "code",
   "execution_count": 24,
   "metadata": {
    "pycharm": {
     "name": "#%%\n"
    },
    "ExecuteTime": {
     "end_time": "2024-05-30T18:13:44.034418Z",
     "start_time": "2024-05-30T18:13:44.029728Z"
    }
   },
   "outputs": [
    {
     "data": {
      "text/plain": "  Order ID                   Product Quantity Ordered\n0   141234                    iPhone                1\n1   141235  Lightning Charging Cable                1\n2   141236          Wired Headphones                2\n3   141237          27in FHD Monitor                1\n4   141238          Wired Headphones                1\n5   141239    AAA Batteries (4-pack)                1",
      "text/html": "<div>\n<style scoped>\n    .dataframe tbody tr th:only-of-type {\n        vertical-align: middle;\n    }\n\n    .dataframe tbody tr th {\n        vertical-align: top;\n    }\n\n    .dataframe thead th {\n        text-align: right;\n    }\n</style>\n<table border=\"1\" class=\"dataframe\">\n  <thead>\n    <tr style=\"text-align: right;\">\n      <th></th>\n      <th>Order ID</th>\n      <th>Product</th>\n      <th>Quantity Ordered</th>\n    </tr>\n  </thead>\n  <tbody>\n    <tr>\n      <th>0</th>\n      <td>141234</td>\n      <td>iPhone</td>\n      <td>1</td>\n    </tr>\n    <tr>\n      <th>1</th>\n      <td>141235</td>\n      <td>Lightning Charging Cable</td>\n      <td>1</td>\n    </tr>\n    <tr>\n      <th>2</th>\n      <td>141236</td>\n      <td>Wired Headphones</td>\n      <td>2</td>\n    </tr>\n    <tr>\n      <th>3</th>\n      <td>141237</td>\n      <td>27in FHD Monitor</td>\n      <td>1</td>\n    </tr>\n    <tr>\n      <th>4</th>\n      <td>141238</td>\n      <td>Wired Headphones</td>\n      <td>1</td>\n    </tr>\n    <tr>\n      <th>5</th>\n      <td>141239</td>\n      <td>AAA Batteries (4-pack)</td>\n      <td>1</td>\n    </tr>\n  </tbody>\n</table>\n</div>"
     },
     "execution_count": 24,
     "metadata": {},
     "output_type": "execute_result"
    }
   ],
   "source": [
    "jan_sales.iloc[:6, :3]"
   ]
  },
  {
   "cell_type": "markdown",
   "metadata": {
    "pycharm": {
     "name": "#%% md\n"
    }
   },
   "source": [
    "**Primer 2**: selektovati poslednjih 5 redova i 1., 2., i 5. kolonu"
   ]
  },
  {
   "cell_type": "code",
   "execution_count": null,
   "metadata": {
    "pycharm": {
     "name": "#%%\n"
    }
   },
   "outputs": [],
   "source": [
    "jan_sales.iloc[-5:, [0,1,4]]"
   ]
  },
  {
   "cell_type": "markdown",
   "metadata": {
    "pycharm": {
     "name": "#%% md\n"
    }
   },
   "source": [
    "**Primer 3**: Selektovati kolone `Order ID`, `Order Date`, i `Purchase Address` za porudžbine iz Bostona\n",
    "\n",
    "Tip: string vrednostima kolone možemo pristupiti preko `str` polja, tako da onda možemo pozvati bilo koju string metodu nad vrednostima kolone"
   ]
  },
  {
   "cell_type": "code",
   "execution_count": 25,
   "metadata": {
    "pycharm": {
     "name": "#%%\n"
    },
    "ExecuteTime": {
     "end_time": "2024-05-30T18:15:36.256301Z",
     "start_time": "2024-05-30T18:15:36.247136Z"
    }
   },
   "outputs": [
    {
     "data": {
      "text/plain": "     Order ID      Order Date                  Purchase Address\n0      141234  01/22/19 21:25   944 Walnut St, Boston, MA 02215\n17     141251  01/24/19 08:13   414 Walnut St, Boston, MA 02215\n29     141263  01/11/19 23:33   640 Spruce St, Boston, MA 02215\n31     141265  01/01/19 16:52    853 Ridge St, Boston, MA 02215\n37     141271  01/30/19 10:51      90 13th St, Boston, MA 02215\n...       ...             ...                               ...\n9627   150409  01/10/19 02:38   410 Forest St, Boston, MA 02215\n9660   150440  01/10/19 19:19   82 Johnson St, Boston, MA 02215\n9666   150445  01/11/19 13:56  147 Lincoln St, Boston, MA 02215\n9694   150473  01/10/19 09:09  148 Hickory St, Boston, MA 02215\n9722   150501  01/13/19 16:43    428 Cedar St, Boston, MA 02215\n\n[1048 rows x 3 columns]",
      "text/html": "<div>\n<style scoped>\n    .dataframe tbody tr th:only-of-type {\n        vertical-align: middle;\n    }\n\n    .dataframe tbody tr th {\n        vertical-align: top;\n    }\n\n    .dataframe thead th {\n        text-align: right;\n    }\n</style>\n<table border=\"1\" class=\"dataframe\">\n  <thead>\n    <tr style=\"text-align: right;\">\n      <th></th>\n      <th>Order ID</th>\n      <th>Order Date</th>\n      <th>Purchase Address</th>\n    </tr>\n  </thead>\n  <tbody>\n    <tr>\n      <th>0</th>\n      <td>141234</td>\n      <td>01/22/19 21:25</td>\n      <td>944 Walnut St, Boston, MA 02215</td>\n    </tr>\n    <tr>\n      <th>17</th>\n      <td>141251</td>\n      <td>01/24/19 08:13</td>\n      <td>414 Walnut St, Boston, MA 02215</td>\n    </tr>\n    <tr>\n      <th>29</th>\n      <td>141263</td>\n      <td>01/11/19 23:33</td>\n      <td>640 Spruce St, Boston, MA 02215</td>\n    </tr>\n    <tr>\n      <th>31</th>\n      <td>141265</td>\n      <td>01/01/19 16:52</td>\n      <td>853 Ridge St, Boston, MA 02215</td>\n    </tr>\n    <tr>\n      <th>37</th>\n      <td>141271</td>\n      <td>01/30/19 10:51</td>\n      <td>90 13th St, Boston, MA 02215</td>\n    </tr>\n    <tr>\n      <th>...</th>\n      <td>...</td>\n      <td>...</td>\n      <td>...</td>\n    </tr>\n    <tr>\n      <th>9627</th>\n      <td>150409</td>\n      <td>01/10/19 02:38</td>\n      <td>410 Forest St, Boston, MA 02215</td>\n    </tr>\n    <tr>\n      <th>9660</th>\n      <td>150440</td>\n      <td>01/10/19 19:19</td>\n      <td>82 Johnson St, Boston, MA 02215</td>\n    </tr>\n    <tr>\n      <th>9666</th>\n      <td>150445</td>\n      <td>01/11/19 13:56</td>\n      <td>147 Lincoln St, Boston, MA 02215</td>\n    </tr>\n    <tr>\n      <th>9694</th>\n      <td>150473</td>\n      <td>01/10/19 09:09</td>\n      <td>148 Hickory St, Boston, MA 02215</td>\n    </tr>\n    <tr>\n      <th>9722</th>\n      <td>150501</td>\n      <td>01/13/19 16:43</td>\n      <td>428 Cedar St, Boston, MA 02215</td>\n    </tr>\n  </tbody>\n</table>\n<p>1048 rows × 3 columns</p>\n</div>"
     },
     "execution_count": 25,
     "metadata": {},
     "output_type": "execute_result"
    }
   ],
   "source": [
    "jan_sales.loc[jan_sales['Purchase Address'].str.contains('Boston'), ['Order ID', 'Order Date', 'Purchase Address']]"
   ]
  },
  {
   "cell_type": "markdown",
   "metadata": {
    "pycharm": {
     "name": "#%% md\n"
    }
   },
   "source": [
    "**Primer 4**: Selektovati kolone `Order ID`, `Product`, i `Price Each` za porudžbine kod kojih naručena količina nije manja od 3\n",
    "\n",
    "Napomena: Primetite da iako bi kolona `Quantity Ordered` trebalo da sadrži numeričke podatke, njene vrednosti su zapisane kao stringovi: "
   ]
  },
  {
   "cell_type": "code",
   "execution_count": 26,
   "metadata": {
    "pycharm": {
     "name": "#%%\n"
    },
    "ExecuteTime": {
     "end_time": "2024-05-30T18:16:33.976917Z",
     "start_time": "2024-05-30T18:16:33.974086Z"
    }
   },
   "outputs": [
    {
     "data": {
      "text/plain": "str"
     },
     "execution_count": 26,
     "metadata": {},
     "output_type": "execute_result"
    }
   ],
   "source": [
    "type(jan_sales['Quantity Ordered'][0])"
   ]
  },
  {
   "cell_type": "markdown",
   "metadata": {
    "pycharm": {
     "name": "#%% md\n"
    }
   },
   "source": [
    "Tako da je potrebno da prvo transformišemo `Quantity Ordered` kolonu u numerički tip:"
   ]
  },
  {
   "cell_type": "code",
   "execution_count": 7,
   "metadata": {
    "pycharm": {
     "name": "#%%\n"
    },
    "ExecuteTime": {
     "end_time": "2024-05-31T15:05:37.879593Z",
     "start_time": "2024-05-31T15:05:37.874894Z"
    }
   },
   "outputs": [],
   "source": [
    "jan_sales['Quantity Ordered'] = pd.to_numeric(jan_sales['Quantity Ordered'], errors='coerce')"
   ]
  },
  {
   "cell_type": "markdown",
   "metadata": {
    "pycharm": {
     "name": "#%% md\n"
    }
   },
   "source": [
    "Sada se možemo vratiti selekciji redova i kolona:"
   ]
  },
  {
   "cell_type": "code",
   "execution_count": 8,
   "metadata": {
    "pycharm": {
     "name": "#%%\n"
    },
    "ExecuteTime": {
     "end_time": "2024-05-31T15:05:40.410464Z",
     "start_time": "2024-05-31T15:05:40.404750Z"
    }
   },
   "outputs": [
    {
     "data": {
      "text/plain": "     Order ID                 Product Price Each\n12     141246  AAA Batteries (4-pack)       2.99\n52     141285  AAA Batteries (4-pack)       2.99\n58     141290   AA Batteries (4-pack)       3.84\n73     141305  AAA Batteries (4-pack)       2.99\n84     141316  AAA Batteries (4-pack)       2.99\n...       ...                     ...        ...\n9513   150299   AA Batteries (4-pack)       3.84\n9590   150372  AAA Batteries (4-pack)       2.99\n9636   150417        Wired Headphones      11.99\n9659   150439        Wired Headphones      11.99\n9700   150479   AA Batteries (4-pack)       3.84\n\n[216 rows x 3 columns]",
      "text/html": "<div>\n<style scoped>\n    .dataframe tbody tr th:only-of-type {\n        vertical-align: middle;\n    }\n\n    .dataframe tbody tr th {\n        vertical-align: top;\n    }\n\n    .dataframe thead th {\n        text-align: right;\n    }\n</style>\n<table border=\"1\" class=\"dataframe\">\n  <thead>\n    <tr style=\"text-align: right;\">\n      <th></th>\n      <th>Order ID</th>\n      <th>Product</th>\n      <th>Price Each</th>\n    </tr>\n  </thead>\n  <tbody>\n    <tr>\n      <th>12</th>\n      <td>141246</td>\n      <td>AAA Batteries (4-pack)</td>\n      <td>2.99</td>\n    </tr>\n    <tr>\n      <th>52</th>\n      <td>141285</td>\n      <td>AAA Batteries (4-pack)</td>\n      <td>2.99</td>\n    </tr>\n    <tr>\n      <th>58</th>\n      <td>141290</td>\n      <td>AA Batteries (4-pack)</td>\n      <td>3.84</td>\n    </tr>\n    <tr>\n      <th>73</th>\n      <td>141305</td>\n      <td>AAA Batteries (4-pack)</td>\n      <td>2.99</td>\n    </tr>\n    <tr>\n      <th>84</th>\n      <td>141316</td>\n      <td>AAA Batteries (4-pack)</td>\n      <td>2.99</td>\n    </tr>\n    <tr>\n      <th>...</th>\n      <td>...</td>\n      <td>...</td>\n      <td>...</td>\n    </tr>\n    <tr>\n      <th>9513</th>\n      <td>150299</td>\n      <td>AA Batteries (4-pack)</td>\n      <td>3.84</td>\n    </tr>\n    <tr>\n      <th>9590</th>\n      <td>150372</td>\n      <td>AAA Batteries (4-pack)</td>\n      <td>2.99</td>\n    </tr>\n    <tr>\n      <th>9636</th>\n      <td>150417</td>\n      <td>Wired Headphones</td>\n      <td>11.99</td>\n    </tr>\n    <tr>\n      <th>9659</th>\n      <td>150439</td>\n      <td>Wired Headphones</td>\n      <td>11.99</td>\n    </tr>\n    <tr>\n      <th>9700</th>\n      <td>150479</td>\n      <td>AA Batteries (4-pack)</td>\n      <td>3.84</td>\n    </tr>\n  </tbody>\n</table>\n<p>216 rows × 3 columns</p>\n</div>"
     },
     "execution_count": 8,
     "metadata": {},
     "output_type": "execute_result"
    }
   ],
   "source": [
    "jan_sales.loc[jan_sales['Quantity Ordered'] >= 3, ['Order ID', 'Product', 'Price Each']]"
   ]
  },
  {
   "cell_type": "markdown",
   "metadata": {
    "pycharm": {
     "name": "#%% md\n"
    }
   },
   "source": [
    "## Učitavanje podataka o prodaji za sve mesece u 2019. god. i integracija mesečnih podataka o prodaji u jedan data frame\n",
    "\n",
    "Potrebno je da učitamo podatke o prodaji iz svih csv fajlova u 'sales_data' direktorijumu (po jedan fajl za svaki mesec 2019. god.)\n",
    "\n",
    "Prvo ćemo videti kako možemo da selektujemo samo .csv fajlove iz datog direktorijuma:"
   ]
  },
  {
   "cell_type": "code",
   "execution_count": 9,
   "metadata": {
    "pycharm": {
     "name": "#%%\n"
    },
    "ExecuteTime": {
     "end_time": "2024-05-31T15:05:42.833275Z",
     "start_time": "2024-05-31T15:05:42.829500Z"
    }
   },
   "outputs": [],
   "source": [
    "def get_csv_files(fpath):\n",
    "    if not fpath.is_dir():\n",
    "        print(\"Greska! Zadata putanja nije putanja do direktorijuma\")\n",
    "        return None\n",
    "\n",
    "    csv_files = []\n",
    "    for f in fpath.iterdir():\n",
    "        if f.is_dir(): continue\n",
    "        if f.suffix == '.csv':\n",
    "            csv_files.append(f)\n",
    "    return csv_files"
   ]
  },
  {
   "cell_type": "code",
   "execution_count": 10,
   "outputs": [
    {
     "name": "stdout",
     "output_type": "stream",
     "text": [
      "Sales_April_2019.csv\n",
      "Sales_August_2019.csv\n",
      "Sales_December_2019.csv\n",
      "Sales_February_2019.csv\n",
      "Sales_January_2019.csv\n",
      "Sales_July_2019.csv\n",
      "Sales_June_2019.csv\n",
      "Sales_March_2019.csv\n",
      "Sales_May_2019.csv\n",
      "Sales_November_2019.csv\n",
      "Sales_October_2019.csv\n",
      "Sales_September_2019.csv\n"
     ]
    }
   ],
   "source": [
    "sales_files = get_csv_files(DATA_DIR)\n",
    "if sales_files:\n",
    "    for sale_file in sales_files:\n",
    "        print(sale_file.name)"
   ],
   "metadata": {
    "collapsed": false,
    "pycharm": {
     "name": "#%%\n"
    },
    "ExecuteTime": {
     "end_time": "2024-05-31T15:05:44.545616Z",
     "start_time": "2024-05-31T15:05:44.541878Z"
    }
   }
  },
  {
   "cell_type": "markdown",
   "metadata": {
    "pycharm": {
     "name": "#%% md\n"
    }
   },
   "source": [
    "Sada ćemo, u petlji, uzimati jedan po jedan csv fajl, učitati podatke iz njega i dodati učitane podatke u jedan data frame koji sadrži podatke o prodaji za celu godinu. Za spajanje dva data frame-a, koristimo funkciju `pd.concat`:"
   ]
  },
  {
   "cell_type": "code",
   "execution_count": 11,
   "metadata": {
    "pycharm": {
     "name": "#%%\n"
    },
    "ExecuteTime": {
     "end_time": "2024-05-31T15:05:46.977379Z",
     "start_time": "2024-05-31T15:05:46.717196Z"
    }
   },
   "outputs": [],
   "source": [
    "all_sales = pd.DataFrame()\n",
    "\n",
    "for f in get_csv_files(DATA_DIR):\n",
    "    monthly_sales = pd.read_csv(f)\n",
    "    all_sales = pd.concat([all_sales, monthly_sales])"
   ]
  },
  {
   "cell_type": "code",
   "execution_count": 32,
   "metadata": {
    "pycharm": {
     "name": "#%%\n"
    },
    "ExecuteTime": {
     "end_time": "2024-05-30T18:34:13.837750Z",
     "start_time": "2024-05-30T18:34:13.832459Z"
    }
   },
   "outputs": [
    {
     "data": {
      "text/plain": "  Order ID                     Product Quantity Ordered Price Each  \\\n0   176558        USB-C Charging Cable                2      11.95   \n1      NaN                         NaN              NaN        NaN   \n2   176559  Bose SoundSport Headphones                1      99.99   \n3   176560                Google Phone                1        600   \n4   176560            Wired Headphones                1      11.99   \n\n       Order Date                      Purchase Address  \n0  04/19/19 08:46          917 1st St, Dallas, TX 75001  \n1             NaN                                   NaN  \n2  04/07/19 22:30     682 Chestnut St, Boston, MA 02215  \n3  04/12/19 14:38  669 Spruce St, Los Angeles, CA 90001  \n4  04/12/19 14:38  669 Spruce St, Los Angeles, CA 90001  ",
      "text/html": "<div>\n<style scoped>\n    .dataframe tbody tr th:only-of-type {\n        vertical-align: middle;\n    }\n\n    .dataframe tbody tr th {\n        vertical-align: top;\n    }\n\n    .dataframe thead th {\n        text-align: right;\n    }\n</style>\n<table border=\"1\" class=\"dataframe\">\n  <thead>\n    <tr style=\"text-align: right;\">\n      <th></th>\n      <th>Order ID</th>\n      <th>Product</th>\n      <th>Quantity Ordered</th>\n      <th>Price Each</th>\n      <th>Order Date</th>\n      <th>Purchase Address</th>\n    </tr>\n  </thead>\n  <tbody>\n    <tr>\n      <th>0</th>\n      <td>176558</td>\n      <td>USB-C Charging Cable</td>\n      <td>2</td>\n      <td>11.95</td>\n      <td>04/19/19 08:46</td>\n      <td>917 1st St, Dallas, TX 75001</td>\n    </tr>\n    <tr>\n      <th>1</th>\n      <td>NaN</td>\n      <td>NaN</td>\n      <td>NaN</td>\n      <td>NaN</td>\n      <td>NaN</td>\n      <td>NaN</td>\n    </tr>\n    <tr>\n      <th>2</th>\n      <td>176559</td>\n      <td>Bose SoundSport Headphones</td>\n      <td>1</td>\n      <td>99.99</td>\n      <td>04/07/19 22:30</td>\n      <td>682 Chestnut St, Boston, MA 02215</td>\n    </tr>\n    <tr>\n      <th>3</th>\n      <td>176560</td>\n      <td>Google Phone</td>\n      <td>1</td>\n      <td>600</td>\n      <td>04/12/19 14:38</td>\n      <td>669 Spruce St, Los Angeles, CA 90001</td>\n    </tr>\n    <tr>\n      <th>4</th>\n      <td>176560</td>\n      <td>Wired Headphones</td>\n      <td>1</td>\n      <td>11.99</td>\n      <td>04/12/19 14:38</td>\n      <td>669 Spruce St, Los Angeles, CA 90001</td>\n    </tr>\n  </tbody>\n</table>\n</div>"
     },
     "execution_count": 32,
     "metadata": {},
     "output_type": "execute_result"
    }
   ],
   "source": [
    "all_sales.head()"
   ]
  },
  {
   "cell_type": "markdown",
   "metadata": {
    "pycharm": {
     "name": "#%% md\n"
    }
   },
   "source": [
    "### Pregled učitanih i integrisanih podataka o prodaji"
   ]
  },
  {
   "cell_type": "code",
   "execution_count": 33,
   "metadata": {
    "pycharm": {
     "name": "#%%\n"
    },
    "ExecuteTime": {
     "end_time": "2024-05-30T18:34:23.469751Z",
     "start_time": "2024-05-30T18:34:23.444854Z"
    }
   },
   "outputs": [
    {
     "name": "stdout",
     "output_type": "stream",
     "text": [
      "<class 'pandas.core.frame.DataFrame'>\n",
      "Index: 186850 entries, 0 to 11685\n",
      "Data columns (total 6 columns):\n",
      " #   Column            Non-Null Count   Dtype \n",
      "---  ------            --------------   ----- \n",
      " 0   Order ID          186305 non-null  object\n",
      " 1   Product           186305 non-null  object\n",
      " 2   Quantity Ordered  186305 non-null  object\n",
      " 3   Price Each        186305 non-null  object\n",
      " 4   Order Date        186305 non-null  object\n",
      " 5   Purchase Address  186305 non-null  object\n",
      "dtypes: object(6)\n",
      "memory usage: 10.0+ MB\n"
     ]
    }
   ],
   "source": [
    "all_sales.info()"
   ]
  },
  {
   "cell_type": "markdown",
   "metadata": {
    "pycharm": {
     "name": "#%% md\n"
    }
   },
   "source": [
    "Obratite pažnju na razliku između broja redova i vrednosti indeksa. Deluje kao da se učitane vrednosti indeksa ponavljaju. Da posle ne bismo imali problema, potrebno je da sredimo, odnosno resetujemo indeks:"
   ]
  },
  {
   "cell_type": "code",
   "execution_count": 12,
   "metadata": {
    "pycharm": {
     "name": "#%%\n"
    },
    "ExecuteTime": {
     "end_time": "2024-05-31T15:05:50.192140Z",
     "start_time": "2024-05-31T15:05:50.189644Z"
    }
   },
   "outputs": [],
   "source": [
    "all_sales.reset_index(drop=True, inplace=True)"
   ]
  },
  {
   "cell_type": "code",
   "execution_count": 13,
   "metadata": {
    "pycharm": {
     "name": "#%%\n"
    },
    "ExecuteTime": {
     "end_time": "2024-05-31T15:05:51.478751Z",
     "start_time": "2024-05-31T15:05:51.475270Z"
    }
   },
   "outputs": [
    {
     "data": {
      "text/plain": "RangeIndex(start=0, stop=186850, step=1)"
     },
     "execution_count": 13,
     "metadata": {},
     "output_type": "execute_result"
    }
   ],
   "source": [
    "all_sales.index"
   ]
  },
  {
   "cell_type": "markdown",
   "metadata": {
    "pycharm": {
     "name": "#%% md\n"
    }
   },
   "source": [
    "Preimenovaćemo data frame, da smanjimo kucanje: "
   ]
  },
  {
   "cell_type": "code",
   "execution_count": 15,
   "metadata": {
    "pycharm": {
     "name": "#%%\n"
    },
    "ExecuteTime": {
     "end_time": "2024-05-31T15:05:56.152672Z",
     "start_time": "2024-05-31T15:05:56.150754Z"
    }
   },
   "outputs": [],
   "source": [
    "sales = all_sales"
   ]
  },
  {
   "cell_type": "markdown",
   "metadata": {
    "pycharm": {
     "name": "#%% md\n"
    }
   },
   "source": [
    "Primetite da smo samo dali novo ime (referencu) postojećem objektu, odnosno, nismo kreirali novi data frame objekat, već samo novu referencu na postojeći\n",
    "\n",
    "To možemo da potvrdimo:"
   ]
  },
  {
   "cell_type": "code",
   "execution_count": 16,
   "metadata": {
    "pycharm": {
     "name": "#%%\n"
    },
    "ExecuteTime": {
     "end_time": "2024-05-31T15:05:57.667729Z",
     "start_time": "2024-05-31T15:05:57.664397Z"
    }
   },
   "outputs": [
    {
     "data": {
      "text/plain": "True"
     },
     "execution_count": 16,
     "metadata": {},
     "output_type": "execute_result"
    }
   ],
   "source": [
    "sales is all_sales"
   ]
  },
  {
   "cell_type": "code",
   "execution_count": 18,
   "outputs": [
    {
     "data": {
      "text/plain": "True"
     },
     "execution_count": 18,
     "metadata": {},
     "output_type": "execute_result"
    }
   ],
   "source": [
    "id(sales) == id(all_sales)"
   ],
   "metadata": {
    "collapsed": false,
    "ExecuteTime": {
     "end_time": "2024-05-31T15:05:59.467865Z",
     "start_time": "2024-05-31T15:05:59.460754Z"
    }
   }
  },
  {
   "cell_type": "markdown",
   "metadata": {
    "pycharm": {
     "name": "#%% md\n"
    }
   },
   "source": [
    "Ako bismo hteli da kreiramo novi pd.DataFrame objekat, identičan postojećem, bilo bi potrebno da uradimo sledeće:"
   ]
  },
  {
   "cell_type": "code",
   "execution_count": 19,
   "metadata": {
    "pycharm": {
     "name": "#%%\n"
    },
    "ExecuteTime": {
     "end_time": "2024-05-31T15:06:01.484683Z",
     "start_time": "2024-05-31T15:06:01.477707Z"
    }
   },
   "outputs": [],
   "source": [
    "all_sales_copy = all_sales.copy()"
   ]
  },
  {
   "cell_type": "code",
   "execution_count": 20,
   "metadata": {
    "pycharm": {
     "name": "#%%\n"
    },
    "ExecuteTime": {
     "end_time": "2024-05-31T15:06:02.017142Z",
     "start_time": "2024-05-31T15:06:02.013478Z"
    }
   },
   "outputs": [
    {
     "data": {
      "text/plain": "False"
     },
     "execution_count": 20,
     "metadata": {},
     "output_type": "execute_result"
    }
   ],
   "source": [
    "all_sales_copy is all_sales"
   ]
  },
  {
   "cell_type": "code",
   "execution_count": 21,
   "outputs": [],
   "source": [
    "del all_sales_copy"
   ],
   "metadata": {
    "collapsed": false,
    "ExecuteTime": {
     "end_time": "2024-05-31T15:06:03.239244Z",
     "start_time": "2024-05-31T15:06:03.234074Z"
    }
   }
  },
  {
   "cell_type": "code",
   "execution_count": 22,
   "outputs": [],
   "source": [
    "del all_sales"
   ],
   "metadata": {
    "collapsed": false,
    "ExecuteTime": {
     "end_time": "2024-05-31T15:06:03.687559Z",
     "start_time": "2024-05-31T15:06:03.684937Z"
    }
   }
  },
  {
   "cell_type": "code",
   "execution_count": 23,
   "outputs": [
    {
     "data": {
      "text/plain": "  Order ID                     Product Quantity Ordered Price Each  \\\n0   176558        USB-C Charging Cable                2      11.95   \n1      NaN                         NaN              NaN        NaN   \n2   176559  Bose SoundSport Headphones                1      99.99   \n3   176560                Google Phone                1        600   \n4   176560            Wired Headphones                1      11.99   \n\n       Order Date                      Purchase Address  \n0  04/19/19 08:46          917 1st St, Dallas, TX 75001  \n1             NaN                                   NaN  \n2  04/07/19 22:30     682 Chestnut St, Boston, MA 02215  \n3  04/12/19 14:38  669 Spruce St, Los Angeles, CA 90001  \n4  04/12/19 14:38  669 Spruce St, Los Angeles, CA 90001  ",
      "text/html": "<div>\n<style scoped>\n    .dataframe tbody tr th:only-of-type {\n        vertical-align: middle;\n    }\n\n    .dataframe tbody tr th {\n        vertical-align: top;\n    }\n\n    .dataframe thead th {\n        text-align: right;\n    }\n</style>\n<table border=\"1\" class=\"dataframe\">\n  <thead>\n    <tr style=\"text-align: right;\">\n      <th></th>\n      <th>Order ID</th>\n      <th>Product</th>\n      <th>Quantity Ordered</th>\n      <th>Price Each</th>\n      <th>Order Date</th>\n      <th>Purchase Address</th>\n    </tr>\n  </thead>\n  <tbody>\n    <tr>\n      <th>0</th>\n      <td>176558</td>\n      <td>USB-C Charging Cable</td>\n      <td>2</td>\n      <td>11.95</td>\n      <td>04/19/19 08:46</td>\n      <td>917 1st St, Dallas, TX 75001</td>\n    </tr>\n    <tr>\n      <th>1</th>\n      <td>NaN</td>\n      <td>NaN</td>\n      <td>NaN</td>\n      <td>NaN</td>\n      <td>NaN</td>\n      <td>NaN</td>\n    </tr>\n    <tr>\n      <th>2</th>\n      <td>176559</td>\n      <td>Bose SoundSport Headphones</td>\n      <td>1</td>\n      <td>99.99</td>\n      <td>04/07/19 22:30</td>\n      <td>682 Chestnut St, Boston, MA 02215</td>\n    </tr>\n    <tr>\n      <th>3</th>\n      <td>176560</td>\n      <td>Google Phone</td>\n      <td>1</td>\n      <td>600</td>\n      <td>04/12/19 14:38</td>\n      <td>669 Spruce St, Los Angeles, CA 90001</td>\n    </tr>\n    <tr>\n      <th>4</th>\n      <td>176560</td>\n      <td>Wired Headphones</td>\n      <td>1</td>\n      <td>11.99</td>\n      <td>04/12/19 14:38</td>\n      <td>669 Spruce St, Los Angeles, CA 90001</td>\n    </tr>\n  </tbody>\n</table>\n</div>"
     },
     "execution_count": 23,
     "metadata": {},
     "output_type": "execute_result"
    }
   ],
   "source": [
    "sales.head()"
   ],
   "metadata": {
    "collapsed": false,
    "ExecuteTime": {
     "end_time": "2024-05-31T15:06:04.433816Z",
     "start_time": "2024-05-31T15:06:04.429124Z"
    }
   }
  },
  {
   "cell_type": "markdown",
   "source": [
    "## Sređivanje podataka (data wrangling) "
   ],
   "metadata": {
    "collapsed": false
   }
  },
  {
   "cell_type": "code",
   "execution_count": 24,
   "metadata": {
    "pycharm": {
     "name": "#%%\n"
    },
    "ExecuteTime": {
     "end_time": "2024-05-31T16:20:44.133945Z",
     "start_time": "2024-05-31T16:20:44.102398Z"
    }
   },
   "outputs": [
    {
     "name": "stdout",
     "output_type": "stream",
     "text": [
      "<class 'pandas.core.frame.DataFrame'>\n",
      "RangeIndex: 186850 entries, 0 to 186849\n",
      "Data columns (total 6 columns):\n",
      " #   Column            Non-Null Count   Dtype \n",
      "---  ------            --------------   ----- \n",
      " 0   Order ID          186305 non-null  object\n",
      " 1   Product           186305 non-null  object\n",
      " 2   Quantity Ordered  186305 non-null  object\n",
      " 3   Price Each        186305 non-null  object\n",
      " 4   Order Date        186305 non-null  object\n",
      " 5   Purchase Address  186305 non-null  object\n",
      "dtypes: object(6)\n",
      "memory usage: 8.6+ MB\n"
     ]
    }
   ],
   "source": [
    "sales.info()"
   ]
  },
  {
   "cell_type": "markdown",
   "metadata": {
    "pycharm": {
     "name": "#%% md\n"
    }
   },
   "source": [
    "Veliki broj kolona je tipa object, uključujući i one za koje to ne bismo očekivali - konkretno, kolone `Quantity Ordered`, `Price Each` i `Order Date`. To moramo promeniti, ali prvo ćemo se pozabaviti nedostajućim vrednostima."
   ]
  },
  {
   "cell_type": "markdown",
   "source": [
    "### Uklanjanje observacija sa nedostajućim vrednostima\n",
    "\n",
    "Izlaz f. `info()` sugeriše da nedostaju kompletni redovi podataka, odnosno da imamo observacije sa svim nedostajućim vrednostima. Uzećemo uzorak da to proverimo:"
   ],
   "metadata": {
    "collapsed": false
   }
  },
  {
   "cell_type": "code",
   "execution_count": 25,
   "metadata": {
    "pycharm": {
     "name": "#%%\n"
    },
    "ExecuteTime": {
     "end_time": "2024-05-31T16:21:50.330735Z",
     "start_time": "2024-05-31T16:21:50.310667Z"
    }
   },
   "outputs": [
    {
     "data": {
      "text/plain": "       Order ID Product Quantity Ordered Price Each Order Date  \\\n27202       NaN     NaN              NaN        NaN        NaN   \n29257       NaN     NaN              NaN        NaN        NaN   \n152407      NaN     NaN              NaN        NaN        NaN   \n18695       NaN     NaN              NaN        NaN        NaN   \n106916      NaN     NaN              NaN        NaN        NaN   \n39057       NaN     NaN              NaN        NaN        NaN   \n178766      NaN     NaN              NaN        NaN        NaN   \n104300      NaN     NaN              NaN        NaN        NaN   \n154071      NaN     NaN              NaN        NaN        NaN   \n94155       NaN     NaN              NaN        NaN        NaN   \n\n       Purchase Address  \n27202               NaN  \n29257               NaN  \n152407              NaN  \n18695               NaN  \n106916              NaN  \n39057               NaN  \n178766              NaN  \n104300              NaN  \n154071              NaN  \n94155               NaN  ",
      "text/html": "<div>\n<style scoped>\n    .dataframe tbody tr th:only-of-type {\n        vertical-align: middle;\n    }\n\n    .dataframe tbody tr th {\n        vertical-align: top;\n    }\n\n    .dataframe thead th {\n        text-align: right;\n    }\n</style>\n<table border=\"1\" class=\"dataframe\">\n  <thead>\n    <tr style=\"text-align: right;\">\n      <th></th>\n      <th>Order ID</th>\n      <th>Product</th>\n      <th>Quantity Ordered</th>\n      <th>Price Each</th>\n      <th>Order Date</th>\n      <th>Purchase Address</th>\n    </tr>\n  </thead>\n  <tbody>\n    <tr>\n      <th>27202</th>\n      <td>NaN</td>\n      <td>NaN</td>\n      <td>NaN</td>\n      <td>NaN</td>\n      <td>NaN</td>\n      <td>NaN</td>\n    </tr>\n    <tr>\n      <th>29257</th>\n      <td>NaN</td>\n      <td>NaN</td>\n      <td>NaN</td>\n      <td>NaN</td>\n      <td>NaN</td>\n      <td>NaN</td>\n    </tr>\n    <tr>\n      <th>152407</th>\n      <td>NaN</td>\n      <td>NaN</td>\n      <td>NaN</td>\n      <td>NaN</td>\n      <td>NaN</td>\n      <td>NaN</td>\n    </tr>\n    <tr>\n      <th>18695</th>\n      <td>NaN</td>\n      <td>NaN</td>\n      <td>NaN</td>\n      <td>NaN</td>\n      <td>NaN</td>\n      <td>NaN</td>\n    </tr>\n    <tr>\n      <th>106916</th>\n      <td>NaN</td>\n      <td>NaN</td>\n      <td>NaN</td>\n      <td>NaN</td>\n      <td>NaN</td>\n      <td>NaN</td>\n    </tr>\n    <tr>\n      <th>39057</th>\n      <td>NaN</td>\n      <td>NaN</td>\n      <td>NaN</td>\n      <td>NaN</td>\n      <td>NaN</td>\n      <td>NaN</td>\n    </tr>\n    <tr>\n      <th>178766</th>\n      <td>NaN</td>\n      <td>NaN</td>\n      <td>NaN</td>\n      <td>NaN</td>\n      <td>NaN</td>\n      <td>NaN</td>\n    </tr>\n    <tr>\n      <th>104300</th>\n      <td>NaN</td>\n      <td>NaN</td>\n      <td>NaN</td>\n      <td>NaN</td>\n      <td>NaN</td>\n      <td>NaN</td>\n    </tr>\n    <tr>\n      <th>154071</th>\n      <td>NaN</td>\n      <td>NaN</td>\n      <td>NaN</td>\n      <td>NaN</td>\n      <td>NaN</td>\n      <td>NaN</td>\n    </tr>\n    <tr>\n      <th>94155</th>\n      <td>NaN</td>\n      <td>NaN</td>\n      <td>NaN</td>\n      <td>NaN</td>\n      <td>NaN</td>\n      <td>NaN</td>\n    </tr>\n  </tbody>\n</table>\n</div>"
     },
     "execution_count": 25,
     "metadata": {},
     "output_type": "execute_result"
    }
   ],
   "source": [
    "sales.loc[sales.Product.isna(), ].sample(10)"
   ]
  },
  {
   "cell_type": "markdown",
   "metadata": {
    "pycharm": {
     "name": "#%% md\n"
    }
   },
   "source": [
    "Uklonićemo observacije (redove) sa svim nedostajućim vrednostima"
   ]
  },
  {
   "cell_type": "code",
   "execution_count": 26,
   "metadata": {
    "pycharm": {
     "name": "#%%\n"
    },
    "ExecuteTime": {
     "end_time": "2024-05-31T16:22:29.421396Z",
     "start_time": "2024-05-31T16:22:29.383646Z"
    }
   },
   "outputs": [],
   "source": [
    "sales.dropna(how='all', inplace=True)"
   ]
  },
  {
   "cell_type": "code",
   "execution_count": 28,
   "metadata": {
    "pycharm": {
     "name": "#%%\n"
    },
    "ExecuteTime": {
     "end_time": "2024-05-31T16:22:53.153350Z",
     "start_time": "2024-05-31T16:22:53.128209Z"
    }
   },
   "outputs": [
    {
     "data": {
      "text/plain": "0"
     },
     "execution_count": 28,
     "metadata": {},
     "output_type": "execute_result"
    }
   ],
   "source": [
    "sales.isna().sum().sum()"
   ]
  },
  {
   "cell_type": "markdown",
   "metadata": {
    "pycharm": {
     "name": "#%% md\n"
    }
   },
   "source": [
    "### Transformacija varijabli *Quantity Ordered* i *Price Each* u numeričke, a *Order Date* u datetime\n",
    "\n",
    "Korisne smernice za ove oblike transformacije varijabli mogu se naći u odgovorima na [ovo pitanje na StackOverflow-u](https://stackoverflow.com/questions/15891038/change-column-type-in-pandas)"
   ]
  },
  {
   "cell_type": "markdown",
   "metadata": {
    "pycharm": {
     "name": "#%% md\n"
    }
   },
   "source": [
    "Prvo ćemo pokušati da transformišemo `Quantity Ordered` u numeričku kolonu"
   ]
  },
  {
   "cell_type": "code",
   "execution_count": 31,
   "metadata": {
    "pycharm": {
     "name": "#%%\n"
    },
    "ExecuteTime": {
     "end_time": "2024-05-31T16:26:10.857969Z",
     "start_time": "2024-05-31T16:26:10.854589Z"
    }
   },
   "outputs": [
    {
     "name": "stdout",
     "output_type": "stream",
     "text": [
      "Unable to parse string \"Quantity Ordered\" at position 517\n"
     ]
    }
   ],
   "source": [
    "try:\n",
    "    sales['Quantity_Ordered'] = pd.to_numeric(sales['Quantity Ordered'], errors='raise')\n",
    "except ValueError as err:\n",
    "    print(err)"
   ]
  },
  {
   "cell_type": "markdown",
   "metadata": {
    "pycharm": {
     "name": "#%% md\n"
    }
   },
   "source": [
    "Pogledaćemo red (observaciju) gde je došlo do greške:"
   ]
  },
  {
   "cell_type": "code",
   "execution_count": 32,
   "metadata": {
    "pycharm": {
     "name": "#%%\n"
    },
    "ExecuteTime": {
     "end_time": "2024-05-31T16:26:14.754271Z",
     "start_time": "2024-05-31T16:26:14.750204Z"
    }
   },
   "outputs": [
    {
     "data": {
      "text/plain": "Order ID                    Order ID\nProduct                      Product\nQuantity Ordered    Quantity Ordered\nPrice Each                Price Each\nOrder Date                Order Date\nPurchase Address    Purchase Address\nQuantity_Ordered                 NaN\nName: 519, dtype: object"
     },
     "execution_count": 32,
     "metadata": {},
     "output_type": "execute_result"
    }
   ],
   "source": [
    "sales.iloc[517,]"
   ]
  },
  {
   "cell_type": "markdown",
   "metadata": {
    "pycharm": {
     "name": "#%% md\n"
    }
   },
   "source": [
    "Red koji je uslovio grešku očigleno sadrži pogrešno unete podatke koji nam nisu potrebni. Tako da ćemo izvršiti konverziju u numerički tip i, pri tome, vrednosti koje ne mogu da se transformišu u numeričke zameniti sa NaN (tj. označiti podatke kao nedostajuće)"
   ]
  },
  {
   "cell_type": "code",
   "execution_count": 33,
   "metadata": {
    "pycharm": {
     "name": "#%%\n"
    },
    "ExecuteTime": {
     "end_time": "2024-05-31T16:27:06.992950Z",
     "start_time": "2024-05-31T16:27:06.949410Z"
    }
   },
   "outputs": [],
   "source": [
    "sales['Quantity_Ordered'] = pd.to_numeric(sales['Quantity Ordered'], errors='coerce')"
   ]
  },
  {
   "cell_type": "markdown",
   "metadata": {
    "pycharm": {
     "name": "#%% md\n"
    }
   },
   "source": [
    "Utvrdićemo broj i procenat uvedenih nedostajućih vrednosti u koloni `Quantity_Ordered`:"
   ]
  },
  {
   "cell_type": "code",
   "execution_count": 44,
   "metadata": {
    "pycharm": {
     "name": "#%%\n"
    },
    "ExecuteTime": {
     "end_time": "2024-05-31T16:33:50.875424Z",
     "start_time": "2024-05-31T16:33:50.871370Z"
    }
   },
   "outputs": [
    {
     "data": {
      "text/plain": "0"
     },
     "execution_count": 44,
     "metadata": {},
     "output_type": "execute_result"
    }
   ],
   "source": [
    "sales.Quantity_Ordered.isna().sum()"
   ]
  },
  {
   "cell_type": "code",
   "execution_count": 36,
   "metadata": {
    "pycharm": {
     "name": "#%%\n"
    },
    "ExecuteTime": {
     "end_time": "2024-05-31T16:28:03.159758Z",
     "start_time": "2024-05-31T16:28:03.156805Z"
    }
   },
   "outputs": [
    {
     "data": {
      "text/plain": "0.19054775770913288"
     },
     "execution_count": 36,
     "metadata": {},
     "output_type": "execute_result"
    }
   ],
   "source": [
    "sales.Quantity_Ordered.isna().mean() * 100"
   ]
  },
  {
   "cell_type": "markdown",
   "metadata": {
    "pycharm": {
     "name": "#%% md\n"
    }
   },
   "source": [
    "Na isti način ćemo transformisati `Price Each` kolonu:"
   ]
  },
  {
   "cell_type": "code",
   "execution_count": 37,
   "outputs": [],
   "source": [
    "sales['Price_Each'] = pd.to_numeric(sales['Price Each'], errors='coerce')"
   ],
   "metadata": {
    "collapsed": false,
    "ExecuteTime": {
     "end_time": "2024-05-31T16:28:33.114892Z",
     "start_time": "2024-05-31T16:28:33.079615Z"
    }
   }
  },
  {
   "cell_type": "code",
   "execution_count": 43,
   "metadata": {
    "pycharm": {
     "name": "#%%\n"
    },
    "ExecuteTime": {
     "end_time": "2024-05-31T16:33:42.436105Z",
     "start_time": "2024-05-31T16:33:42.432017Z"
    }
   },
   "outputs": [
    {
     "data": {
      "text/plain": "0"
     },
     "execution_count": 43,
     "metadata": {},
     "output_type": "execute_result"
    }
   ],
   "source": [
    "sales.Price_Each.isna().sum()"
   ]
  },
  {
   "cell_type": "code",
   "execution_count": 39,
   "metadata": {
    "pycharm": {
     "name": "#%%\n"
    },
    "ExecuteTime": {
     "end_time": "2024-05-31T16:28:57.768392Z",
     "start_time": "2024-05-31T16:28:57.764791Z"
    }
   },
   "outputs": [
    {
     "data": {
      "text/plain": "0.19054775770913288"
     },
     "execution_count": 39,
     "metadata": {},
     "output_type": "execute_result"
    }
   ],
   "source": [
    "sales.Price_Each.isna().mean() * 100"
   ]
  },
  {
   "cell_type": "markdown",
   "metadata": {
    "pycharm": {
     "name": "#%% md\n"
    }
   },
   "source": [
    "Izbacićemo redove gde su naručena količina ili jedinična cena nepoznati (NaN)"
   ]
  },
  {
   "cell_type": "code",
   "execution_count": 40,
   "metadata": {
    "pycharm": {
     "name": "#%%\n"
    },
    "ExecuteTime": {
     "end_time": "2024-05-31T16:30:45.014941Z",
     "start_time": "2024-05-31T16:30:45.010317Z"
    }
   },
   "outputs": [],
   "source": [
    "rows_to_drop = sales.loc[sales.Price_Each.isna() | sales.Quantity_Ordered.isna(),].index"
   ]
  },
  {
   "cell_type": "code",
   "outputs": [],
   "source": [
    "sales.dropna(how='any', subset=['Price_Each', 'Quantity_Ordered'], inplace=True)"
   ],
   "metadata": {
    "collapsed": false
   }
  },
  {
   "cell_type": "code",
   "execution_count": 41,
   "metadata": {
    "pycharm": {
     "name": "#%%\n"
    },
    "ExecuteTime": {
     "end_time": "2024-05-31T16:31:37.290004Z",
     "start_time": "2024-05-31T16:31:37.268316Z"
    }
   },
   "outputs": [],
   "source": [
    "sales.drop(rows_to_drop, axis=0, inplace=True)"
   ]
  },
  {
   "cell_type": "markdown",
   "metadata": {
    "pycharm": {
     "name": "#%% md\n"
    }
   },
   "source": [
    "Proverićemo veličinu data frame-a nakon uklanjanja redova sa svim nedostajućim vrednostima:"
   ]
  },
  {
   "cell_type": "code",
   "execution_count": 42,
   "metadata": {
    "pycharm": {
     "name": "#%%\n"
    },
    "ExecuteTime": {
     "end_time": "2024-05-31T16:32:25.701156Z",
     "start_time": "2024-05-31T16:32:25.697083Z"
    }
   },
   "outputs": [
    {
     "data": {
      "text/plain": "(185950, 8)"
     },
     "execution_count": 42,
     "metadata": {},
     "output_type": "execute_result"
    }
   ],
   "source": [
    "sales.shape"
   ]
  },
  {
   "cell_type": "markdown",
   "metadata": {
    "pycharm": {
     "name": "#%% md\n"
    }
   },
   "source": [
    "Konačno, transformisaćemo `Order Date` u datetime tip"
   ]
  },
  {
   "cell_type": "code",
   "execution_count": 45,
   "outputs": [],
   "source": [
    "try:\n",
    "    sales['Order_Date'] = pd.to_datetime(sales['Order Date'], format=\"%m/%d/%y %H:%M\")\n",
    "except ValueError as err:\n",
    "    print(err)"
   ],
   "metadata": {
    "collapsed": false,
    "ExecuteTime": {
     "end_time": "2024-05-31T16:34:54.083160Z",
     "start_time": "2024-05-31T16:34:53.830267Z"
    }
   }
  },
  {
   "cell_type": "code",
   "execution_count": 46,
   "outputs": [
    {
     "data": {
      "text/plain": "        Order Date          Order_Date\n0   04/19/19 08:46 2019-04-19 08:46:00\n2   04/07/19 22:30 2019-04-07 22:30:00\n3   04/12/19 14:38 2019-04-12 14:38:00\n4   04/12/19 14:38 2019-04-12 14:38:00\n5   04/30/19 09:27 2019-04-30 09:27:00\n6   04/29/19 13:03 2019-04-29 13:03:00\n7   04/02/19 07:46 2019-04-02 07:46:00\n8   04/12/19 10:58 2019-04-12 10:58:00\n9   04/24/19 10:38 2019-04-24 10:38:00\n10  04/08/19 14:05 2019-04-08 14:05:00",
      "text/html": "<div>\n<style scoped>\n    .dataframe tbody tr th:only-of-type {\n        vertical-align: middle;\n    }\n\n    .dataframe tbody tr th {\n        vertical-align: top;\n    }\n\n    .dataframe thead th {\n        text-align: right;\n    }\n</style>\n<table border=\"1\" class=\"dataframe\">\n  <thead>\n    <tr style=\"text-align: right;\">\n      <th></th>\n      <th>Order Date</th>\n      <th>Order_Date</th>\n    </tr>\n  </thead>\n  <tbody>\n    <tr>\n      <th>0</th>\n      <td>04/19/19 08:46</td>\n      <td>2019-04-19 08:46:00</td>\n    </tr>\n    <tr>\n      <th>2</th>\n      <td>04/07/19 22:30</td>\n      <td>2019-04-07 22:30:00</td>\n    </tr>\n    <tr>\n      <th>3</th>\n      <td>04/12/19 14:38</td>\n      <td>2019-04-12 14:38:00</td>\n    </tr>\n    <tr>\n      <th>4</th>\n      <td>04/12/19 14:38</td>\n      <td>2019-04-12 14:38:00</td>\n    </tr>\n    <tr>\n      <th>5</th>\n      <td>04/30/19 09:27</td>\n      <td>2019-04-30 09:27:00</td>\n    </tr>\n    <tr>\n      <th>6</th>\n      <td>04/29/19 13:03</td>\n      <td>2019-04-29 13:03:00</td>\n    </tr>\n    <tr>\n      <th>7</th>\n      <td>04/02/19 07:46</td>\n      <td>2019-04-02 07:46:00</td>\n    </tr>\n    <tr>\n      <th>8</th>\n      <td>04/12/19 10:58</td>\n      <td>2019-04-12 10:58:00</td>\n    </tr>\n    <tr>\n      <th>9</th>\n      <td>04/24/19 10:38</td>\n      <td>2019-04-24 10:38:00</td>\n    </tr>\n    <tr>\n      <th>10</th>\n      <td>04/08/19 14:05</td>\n      <td>2019-04-08 14:05:00</td>\n    </tr>\n  </tbody>\n</table>\n</div>"
     },
     "execution_count": 46,
     "metadata": {},
     "output_type": "execute_result"
    }
   ],
   "source": [
    "sales[['Order Date', 'Order_Date']].head(10)"
   ],
   "metadata": {
    "collapsed": false,
    "ExecuteTime": {
     "end_time": "2024-05-31T16:35:33.629025Z",
     "start_time": "2024-05-31T16:35:33.621076Z"
    }
   }
  },
  {
   "cell_type": "markdown",
   "metadata": {
    "pycharm": {
     "name": "#%% md\n"
    }
   },
   "source": [
    "Nakon ovih transformacija, proverićemo kako sad izgledaju tipovi podataka u data frame-u:"
   ]
  },
  {
   "cell_type": "code",
   "execution_count": 47,
   "metadata": {
    "pycharm": {
     "name": "#%%\n"
    },
    "ExecuteTime": {
     "end_time": "2024-05-31T16:35:58.800798Z",
     "start_time": "2024-05-31T16:35:58.796122Z"
    }
   },
   "outputs": [
    {
     "data": {
      "text/plain": "Order ID                    object\nProduct                     object\nQuantity Ordered            object\nPrice Each                  object\nOrder Date                  object\nPurchase Address            object\nQuantity_Ordered           float64\nPrice_Each                 float64\nOrder_Date          datetime64[ns]\ndtype: object"
     },
     "execution_count": 47,
     "metadata": {},
     "output_type": "execute_result"
    }
   ],
   "source": [
    "sales.dtypes"
   ]
  },
  {
   "cell_type": "markdown",
   "source": [
    "Uklonićemo kolone koje više nisu potrebne:"
   ],
   "metadata": {
    "collapsed": false
   }
  },
  {
   "cell_type": "code",
   "execution_count": 48,
   "outputs": [],
   "source": [
    "sales.drop(columns=['Order Date', 'Price Each', 'Quantity Ordered'], inplace=True)"
   ],
   "metadata": {
    "collapsed": false,
    "ExecuteTime": {
     "end_time": "2024-05-31T16:36:41.940656Z",
     "start_time": "2024-05-31T16:36:41.927612Z"
    }
   }
  },
  {
   "cell_type": "code",
   "execution_count": 49,
   "outputs": [
    {
     "name": "stdout",
     "output_type": "stream",
     "text": [
      "<class 'pandas.core.frame.DataFrame'>\n",
      "Index: 185950 entries, 0 to 186849\n",
      "Data columns (total 6 columns):\n",
      " #   Column            Non-Null Count   Dtype         \n",
      "---  ------            --------------   -----         \n",
      " 0   Order ID          185950 non-null  object        \n",
      " 1   Product           185950 non-null  object        \n",
      " 2   Purchase Address  185950 non-null  object        \n",
      " 3   Quantity_Ordered  185950 non-null  float64       \n",
      " 4   Price_Each        185950 non-null  float64       \n",
      " 5   Order_Date        185950 non-null  datetime64[ns]\n",
      "dtypes: datetime64[ns](1), float64(2), object(3)\n",
      "memory usage: 9.9+ MB\n"
     ]
    }
   ],
   "source": [
    "sales.info()"
   ],
   "metadata": {
    "collapsed": false,
    "ExecuteTime": {
     "end_time": "2024-05-31T16:36:45.602023Z",
     "start_time": "2024-05-31T16:36:45.586019Z"
    }
   }
  },
  {
   "cell_type": "markdown",
   "metadata": {
    "pycharm": {
     "name": "#%% md\n"
    }
   },
   "source": [
    "### Dodavanje *Purchase_City* kolone\n",
    "\n",
    "Sad ćemo videti kako možemo da napravimo novu kolonu od postojeće.\n",
    "\n",
    "Pošto će nam kasnije biti potrebno da uporedimo prodaju po gradovima, dodaćemo kolonu sa nazivom grada u kome je porudžbina napravljena. Nakon imena grada treba da stoji oznaka države, data u zagradi (npr. „Atlanta (GA)“), da bi se omogućilo razlikovanje gradova sa istim nazivima.   "
   ]
  },
  {
   "cell_type": "markdown",
   "metadata": {
    "pycharm": {
     "name": "#%% md\n"
    }
   },
   "source": [
    "Uzećemo uzorak vrednosti kolone `Purchase Address` kako bismo se upoznali sa formatom u kome su adrese zapisane:"
   ]
  },
  {
   "cell_type": "code",
   "execution_count": 50,
   "metadata": {
    "pycharm": {
     "name": "#%%\n"
    },
    "ExecuteTime": {
     "end_time": "2024-05-31T16:38:54.925718Z",
     "start_time": "2024-05-31T16:38:54.918948Z"
    }
   },
   "outputs": [
    {
     "data": {
      "text/plain": "74689       868 Spruce St, Boston, MA 02215\n163782      146 14th St, Portland, OR 97035\n8476          324 Lake St, Dallas, TX 75001\n104566    316 Chestnut St, Dallas, TX 75001\n117788      741 Church St, Dallas, TX 75001\nName: Purchase Address, dtype: object"
     },
     "execution_count": 50,
     "metadata": {},
     "output_type": "execute_result"
    }
   ],
   "source": [
    "sales['Purchase Address'].sample(5)"
   ]
  },
  {
   "cell_type": "markdown",
   "metadata": {
    "pycharm": {
     "name": "#%% md\n"
    }
   },
   "source": [
    "Prvo ćemo kreirati funkciju koja izdvaja grad (i oznaku države) iz kolone `Purchase Address`: "
   ]
  },
  {
   "cell_type": "code",
   "execution_count": 51,
   "metadata": {
    "pycharm": {
     "name": "#%%\n"
    },
    "ExecuteTime": {
     "end_time": "2024-05-31T16:41:15.058246Z",
     "start_time": "2024-05-31T16:41:15.054760Z"
    }
   },
   "outputs": [],
   "source": [
    "def get_city_and_state(address):\n",
    "    street, city, state_zip = address.split(',')\n",
    "    state, zip = state_zip.split() #\" MA\" ,\n",
    "    return f\"{city.lstrip()} ({state.lstrip()})\""
   ]
  },
  {
   "cell_type": "markdown",
   "metadata": {
    "pycharm": {
     "name": "#%% md\n"
    }
   },
   "source": [
    "Zatim ćemo koristeći `apply` metodu, primeniti `get_city_and_state()` f. na svaku vrednost serije `Purchase Address`. Ali, prvo ćemo isprobati na uzorku adresa:"
   ]
  },
  {
   "cell_type": "code",
   "execution_count": 52,
   "metadata": {
    "pycharm": {
     "name": "#%%\n"
    },
    "ExecuteTime": {
     "end_time": "2024-05-31T16:42:02.486732Z",
     "start_time": "2024-05-31T16:42:02.480052Z"
    }
   },
   "outputs": [
    {
     "data": {
      "text/plain": "95492     San Francisco (CA)\n152207         Portland (OR)\n8384             Boston (MA)\n173379           Boston (MA)\n49868            Austin (TX)\n142477          Seattle (WA)\n145432         Portland (OR)\n156851          Seattle (WA)\n126124         Portland (OR)\n17492     San Francisco (CA)\nName: Purchase Address, dtype: object"
     },
     "execution_count": 52,
     "metadata": {},
     "output_type": "execute_result"
    }
   ],
   "source": [
    "sales['Purchase Address'].sample(10).apply(get_city_and_state)"
   ]
  },
  {
   "cell_type": "markdown",
   "metadata": {
    "pycharm": {
     "name": "#%% md\n"
    }
   },
   "source": [
    "Sad možemo primenti funkciju na sve vrednosti kolone `Purchase Address`, kako bi kreirali novu kolonu - `Purchase_City`"
   ]
  },
  {
   "cell_type": "code",
   "execution_count": 53,
   "metadata": {
    "pycharm": {
     "name": "#%%\n"
    },
    "ExecuteTime": {
     "end_time": "2024-05-31T16:43:04.516369Z",
     "start_time": "2024-05-31T16:43:04.449696Z"
    }
   },
   "outputs": [],
   "source": [
    "sales['Purchase_city'] = sales['Purchase Address'].apply(get_city_and_state)"
   ]
  },
  {
   "cell_type": "code",
   "execution_count": 54,
   "metadata": {
    "pycharm": {
     "name": "#%%\n"
    },
    "ExecuteTime": {
     "end_time": "2024-05-31T16:43:09.922239Z",
     "start_time": "2024-05-31T16:43:09.908169Z"
    }
   },
   "outputs": [
    {
     "data": {
      "text/plain": "                              Purchase Address       Purchase_city\n14224         785 Madison St, Austin, TX 73301         Austin (TX)\n103601  647 Chestnut St, Los Angeles, CA 90001    Los Angeles (CA)\n69162            714 13th St, Austin, TX 73301         Austin (TX)\n46796   140 Meadow St, New York City, NY 10001  New York City (NY)\n113290    411 13th St, San Francisco, CA 94016  San Francisco (CA)\n10908          847 11th St, Portland, OR 97035       Portland (OR)\n98790             560 9th St, Boston, MA 02215         Boston (MA)\n159904          351 9th St, Portland, OR 97035       Portland (OR)\n96161     843 Cherry St, Los Angeles, CA 90001    Los Angeles (CA)\n35154     357 13th St, San Francisco, CA 94016  San Francisco (CA)",
      "text/html": "<div>\n<style scoped>\n    .dataframe tbody tr th:only-of-type {\n        vertical-align: middle;\n    }\n\n    .dataframe tbody tr th {\n        vertical-align: top;\n    }\n\n    .dataframe thead th {\n        text-align: right;\n    }\n</style>\n<table border=\"1\" class=\"dataframe\">\n  <thead>\n    <tr style=\"text-align: right;\">\n      <th></th>\n      <th>Purchase Address</th>\n      <th>Purchase_city</th>\n    </tr>\n  </thead>\n  <tbody>\n    <tr>\n      <th>14224</th>\n      <td>785 Madison St, Austin, TX 73301</td>\n      <td>Austin (TX)</td>\n    </tr>\n    <tr>\n      <th>103601</th>\n      <td>647 Chestnut St, Los Angeles, CA 90001</td>\n      <td>Los Angeles (CA)</td>\n    </tr>\n    <tr>\n      <th>69162</th>\n      <td>714 13th St, Austin, TX 73301</td>\n      <td>Austin (TX)</td>\n    </tr>\n    <tr>\n      <th>46796</th>\n      <td>140 Meadow St, New York City, NY 10001</td>\n      <td>New York City (NY)</td>\n    </tr>\n    <tr>\n      <th>113290</th>\n      <td>411 13th St, San Francisco, CA 94016</td>\n      <td>San Francisco (CA)</td>\n    </tr>\n    <tr>\n      <th>10908</th>\n      <td>847 11th St, Portland, OR 97035</td>\n      <td>Portland (OR)</td>\n    </tr>\n    <tr>\n      <th>98790</th>\n      <td>560 9th St, Boston, MA 02215</td>\n      <td>Boston (MA)</td>\n    </tr>\n    <tr>\n      <th>159904</th>\n      <td>351 9th St, Portland, OR 97035</td>\n      <td>Portland (OR)</td>\n    </tr>\n    <tr>\n      <th>96161</th>\n      <td>843 Cherry St, Los Angeles, CA 90001</td>\n      <td>Los Angeles (CA)</td>\n    </tr>\n    <tr>\n      <th>35154</th>\n      <td>357 13th St, San Francisco, CA 94016</td>\n      <td>San Francisco (CA)</td>\n    </tr>\n  </tbody>\n</table>\n</div>"
     },
     "execution_count": 54,
     "metadata": {},
     "output_type": "execute_result"
    }
   ],
   "source": [
    "sales[['Purchase Address', 'Purchase_city']].sample(10)"
   ]
  },
  {
   "cell_type": "markdown",
   "source": [
    "Sačuvaćemo transformisani dataset u fajl:"
   ],
   "metadata": {
    "collapsed": false
   }
  },
  {
   "cell_type": "code",
   "execution_count": 55,
   "outputs": [],
   "source": [
    "def get_processed_data_dir():\n",
    "    processed_data_dir = Path.cwd() /'venv'/'pandas'/'vezbePandas'/ 'data' / 'processed_data'\n",
    "    if not processed_data_dir.exists():\n",
    "        processed_data_dir.mkdir()\n",
    "    return processed_data_dir\n",
    "\n",
    "sales.to_csv(get_processed_data_dir() / 'all_sales_2019.csv', index=False)"
   ],
   "metadata": {
    "collapsed": false,
    "ExecuteTime": {
     "end_time": "2024-05-31T16:46:35.660815Z",
     "start_time": "2024-05-31T16:46:35.165492Z"
    }
   }
  },
  {
   "cell_type": "markdown",
   "metadata": {
    "pycharm": {
     "name": "#%% md\n"
    }
   },
   "source": [
    "## Eksploratorna analiza podataka\n",
    "\n",
    "Sada ćemo pokušati da odgovorimo na neka pitanja vezana za ostvarenu prodaju u 2019. godini, kroz eksploratornu analizu `sales` dataseta"
   ]
  },
  {
   "cell_type": "markdown",
   "metadata": {
    "pycharm": {
     "name": "#%% md\n"
    }
   },
   "source": [
    "### Zadatak 1. Koji je bio najbolji mesec za prodaju? Kolika zarada je ostvarena tog meseca?\n",
    "\n",
    "Da bismo odgovorili na ovo pitanje, potrebno je da:\n",
    "- izračunamo ukupan prihod po porudžbini\n",
    "- izdvojimo mesec iz datuma porudžbine, tako da možemo grupisati porudžbine na mesečnoj osnovi\n",
    "- izračunamo ukupan prihod na mesečnom nivou"
   ]
  },
  {
   "cell_type": "markdown",
   "metadata": {
    "pycharm": {
     "name": "#%% md\n"
    }
   },
   "source": [
    "**Korak 1**: Izračunavanje ukupnog prihoda po porudžbini"
   ]
  },
  {
   "cell_type": "code",
   "execution_count": 58,
   "metadata": {
    "pycharm": {
     "name": "#%%\n"
    },
    "ExecuteTime": {
     "end_time": "2024-05-31T16:58:09.584042Z",
     "start_time": "2024-05-31T16:58:09.577180Z"
    }
   },
   "outputs": [
    {
     "data": {
      "text/plain": "  Order ID                     Product                      Purchase Address  \\\n0   176558        USB-C Charging Cable          917 1st St, Dallas, TX 75001   \n2   176559  Bose SoundSport Headphones     682 Chestnut St, Boston, MA 02215   \n3   176560                Google Phone  669 Spruce St, Los Angeles, CA 90001   \n4   176560            Wired Headphones  669 Spruce St, Los Angeles, CA 90001   \n5   176561            Wired Headphones     333 8th St, Los Angeles, CA 90001   \n\n   Quantity_Ordered  Price_Each          Order_Date     Purchase_city  \\\n0               2.0       11.95 2019-04-19 08:46:00       Dallas (TX)   \n2               1.0       99.99 2019-04-07 22:30:00       Boston (MA)   \n3               1.0      600.00 2019-04-12 14:38:00  Los Angeles (CA)   \n4               1.0       11.99 2019-04-12 14:38:00  Los Angeles (CA)   \n5               1.0       11.99 2019-04-30 09:27:00  Los Angeles (CA)   \n\n   Total_Price  \n0        23.90  \n2        99.99  \n3       600.00  \n4        11.99  \n5        11.99  ",
      "text/html": "<div>\n<style scoped>\n    .dataframe tbody tr th:only-of-type {\n        vertical-align: middle;\n    }\n\n    .dataframe tbody tr th {\n        vertical-align: top;\n    }\n\n    .dataframe thead th {\n        text-align: right;\n    }\n</style>\n<table border=\"1\" class=\"dataframe\">\n  <thead>\n    <tr style=\"text-align: right;\">\n      <th></th>\n      <th>Order ID</th>\n      <th>Product</th>\n      <th>Purchase Address</th>\n      <th>Quantity_Ordered</th>\n      <th>Price_Each</th>\n      <th>Order_Date</th>\n      <th>Purchase_city</th>\n      <th>Total_Price</th>\n    </tr>\n  </thead>\n  <tbody>\n    <tr>\n      <th>0</th>\n      <td>176558</td>\n      <td>USB-C Charging Cable</td>\n      <td>917 1st St, Dallas, TX 75001</td>\n      <td>2.0</td>\n      <td>11.95</td>\n      <td>2019-04-19 08:46:00</td>\n      <td>Dallas (TX)</td>\n      <td>23.90</td>\n    </tr>\n    <tr>\n      <th>2</th>\n      <td>176559</td>\n      <td>Bose SoundSport Headphones</td>\n      <td>682 Chestnut St, Boston, MA 02215</td>\n      <td>1.0</td>\n      <td>99.99</td>\n      <td>2019-04-07 22:30:00</td>\n      <td>Boston (MA)</td>\n      <td>99.99</td>\n    </tr>\n    <tr>\n      <th>3</th>\n      <td>176560</td>\n      <td>Google Phone</td>\n      <td>669 Spruce St, Los Angeles, CA 90001</td>\n      <td>1.0</td>\n      <td>600.00</td>\n      <td>2019-04-12 14:38:00</td>\n      <td>Los Angeles (CA)</td>\n      <td>600.00</td>\n    </tr>\n    <tr>\n      <th>4</th>\n      <td>176560</td>\n      <td>Wired Headphones</td>\n      <td>669 Spruce St, Los Angeles, CA 90001</td>\n      <td>1.0</td>\n      <td>11.99</td>\n      <td>2019-04-12 14:38:00</td>\n      <td>Los Angeles (CA)</td>\n      <td>11.99</td>\n    </tr>\n    <tr>\n      <th>5</th>\n      <td>176561</td>\n      <td>Wired Headphones</td>\n      <td>333 8th St, Los Angeles, CA 90001</td>\n      <td>1.0</td>\n      <td>11.99</td>\n      <td>2019-04-30 09:27:00</td>\n      <td>Los Angeles (CA)</td>\n      <td>11.99</td>\n    </tr>\n  </tbody>\n</table>\n</div>"
     },
     "execution_count": 58,
     "metadata": {},
     "output_type": "execute_result"
    }
   ],
   "source": [
    "sales['Total_Price'] = sales.Quantity_Ordered * sales.Price_Each\n",
    "sales.head()"
   ]
  },
  {
   "cell_type": "markdown",
   "metadata": {
    "pycharm": {
     "name": "#%% md\n"
    }
   },
   "source": [
    "**Korak 2**: Izdvajanje meseca iz datuma porudžbine (`Order_Date`)\n",
    "\n",
    "S obzirom da je `Order_Date` pandas serija tipa datetime, možemo koristiti `dt` da bismo dobili pristup svakoj vrednosti u seriji kao datetime objektu. \n",
    "\n",
    "Kad imamo pristup datumu porudžbine kao datetime objektu, možemo uzeti bilo koji element datuma (godina, mesec, dan, itd.) i vremena porudžbine kroz odgovarajuća polja objekta."
   ]
  },
  {
   "cell_type": "code",
   "execution_count": 59,
   "metadata": {
    "pycharm": {
     "name": "#%%\n"
    },
    "ExecuteTime": {
     "end_time": "2024-05-31T16:59:14.618591Z",
     "start_time": "2024-05-31T16:59:14.611532Z"
    }
   },
   "outputs": [],
   "source": [
    "sales['Order_Month'] = sales.Order_Date.dt.month"
   ]
  },
  {
   "cell_type": "code",
   "execution_count": 60,
   "metadata": {
    "pycharm": {
     "name": "#%%\n"
    },
    "ExecuteTime": {
     "end_time": "2024-05-31T16:59:20.604280Z",
     "start_time": "2024-05-31T16:59:20.594791Z"
    }
   },
   "outputs": [
    {
     "data": {
      "text/plain": "                Order_Date  Order_Month\n80385  2019-07-02 12:44:00            7\n161354 2019-10-06 22:55:00           10\n38026  2019-12-01 12:11:00           12\n97270  2019-06-12 15:33:00            6\n52519  2019-12-20 11:52:00           12\n132557 2019-05-14 20:43:00            5\n116813 2019-03-06 22:15:00            3\n179862 2019-09-24 18:07:00            9\n106814 2019-03-30 18:11:00            3\n66324  2019-02-07 18:02:00            2",
      "text/html": "<div>\n<style scoped>\n    .dataframe tbody tr th:only-of-type {\n        vertical-align: middle;\n    }\n\n    .dataframe tbody tr th {\n        vertical-align: top;\n    }\n\n    .dataframe thead th {\n        text-align: right;\n    }\n</style>\n<table border=\"1\" class=\"dataframe\">\n  <thead>\n    <tr style=\"text-align: right;\">\n      <th></th>\n      <th>Order_Date</th>\n      <th>Order_Month</th>\n    </tr>\n  </thead>\n  <tbody>\n    <tr>\n      <th>80385</th>\n      <td>2019-07-02 12:44:00</td>\n      <td>7</td>\n    </tr>\n    <tr>\n      <th>161354</th>\n      <td>2019-10-06 22:55:00</td>\n      <td>10</td>\n    </tr>\n    <tr>\n      <th>38026</th>\n      <td>2019-12-01 12:11:00</td>\n      <td>12</td>\n    </tr>\n    <tr>\n      <th>97270</th>\n      <td>2019-06-12 15:33:00</td>\n      <td>6</td>\n    </tr>\n    <tr>\n      <th>52519</th>\n      <td>2019-12-20 11:52:00</td>\n      <td>12</td>\n    </tr>\n    <tr>\n      <th>132557</th>\n      <td>2019-05-14 20:43:00</td>\n      <td>5</td>\n    </tr>\n    <tr>\n      <th>116813</th>\n      <td>2019-03-06 22:15:00</td>\n      <td>3</td>\n    </tr>\n    <tr>\n      <th>179862</th>\n      <td>2019-09-24 18:07:00</td>\n      <td>9</td>\n    </tr>\n    <tr>\n      <th>106814</th>\n      <td>2019-03-30 18:11:00</td>\n      <td>3</td>\n    </tr>\n    <tr>\n      <th>66324</th>\n      <td>2019-02-07 18:02:00</td>\n      <td>2</td>\n    </tr>\n  </tbody>\n</table>\n</div>"
     },
     "execution_count": 60,
     "metadata": {},
     "output_type": "execute_result"
    }
   ],
   "source": [
    "sales[['Order_Date', 'Order_Month']].sample(10)"
   ]
  },
  {
   "cell_type": "markdown",
   "metadata": {
    "pycharm": {
     "name": "#%% md\n"
    }
   },
   "source": [
    "**Korak 3**: Izračunavanje ukupnog prihoda za svaki mesec"
   ]
  },
  {
   "cell_type": "code",
   "execution_count": 64,
   "metadata": {
    "pycharm": {
     "name": "#%%\n"
    },
    "ExecuteTime": {
     "end_time": "2024-05-31T17:01:30.379259Z",
     "start_time": "2024-05-31T17:01:30.371814Z"
    }
   },
   "outputs": [
    {
     "data": {
      "text/plain": "Order_Month\n1     1822256.73\n2     2202022.42\n3     2807100.38\n4     3390670.24\n5     3152606.75\n6     2577802.26\n7     2647775.76\n8     2244467.88\n9     2097560.13\n10    3736726.88\n11    3199603.20\n12    4613443.34\nName: Total_Price, dtype: float64"
     },
     "execution_count": 64,
     "metadata": {},
     "output_type": "execute_result"
    }
   ],
   "source": [
    "tot_sales_per_month = sales.groupby('Order_Month')['Total_Price'].sum()\n",
    "tot_sales_per_month "
   ]
  },
  {
   "cell_type": "markdown",
   "metadata": {
    "pycharm": {
     "name": "#%% md\n"
    }
   },
   "source": [
    "Sortiranje rezultata u opdajućem redosledu ukupnog mesečnog prihoda"
   ]
  },
  {
   "cell_type": "code",
   "execution_count": 65,
   "metadata": {
    "pycharm": {
     "name": "#%%\n"
    },
    "ExecuteTime": {
     "end_time": "2024-05-31T17:02:04.740681Z",
     "start_time": "2024-05-31T17:02:04.737414Z"
    }
   },
   "outputs": [
    {
     "data": {
      "text/plain": "Order_Month\n12    4613443.34\n10    3736726.88\n4     3390670.24\n11    3199603.20\n5     3152606.75\n3     2807100.38\n7     2647775.76\n6     2577802.26\n8     2244467.88\n2     2202022.42\n9     2097560.13\n1     1822256.73\nName: Total_Price, dtype: float64"
     },
     "execution_count": 65,
     "metadata": {},
     "output_type": "execute_result"
    }
   ],
   "source": [
    "tot_sales_per_month.sort_values(ascending=False)"
   ]
  },
  {
   "cell_type": "markdown",
   "metadata": {
    "pycharm": {
     "name": "#%% md\n"
    }
   },
   "source": [
    "Možemo predstaviti i sagledati mesečne prihode na (bar) plotu, pošto vizuelno predstavljanje podataka često olakšava razumevanje trendova koji mogu biti prisutni u podacima.\n",
    "\n",
    "Za kreiranje plota, koristićemo Matplotlib bibliotetku, čiju dokumentaciju možete naći [ovde](https://matplotlib.org/3.5.3/api/_as_gen/matplotlib.pyplot.html), dok [ovaj primer](https://matplotlib.org/stable/gallery/lines_bars_and_markers/bar_colors.html#sphx-glr-gallery-lines-bars-and-markers-bar-colors-py) može poslužiti kao dobra polazna osnova za konkretni zadatak vizuelizacije koji imamo.\n",
    "\n",
    "Napomena: Na [ovom GitHub repozitorijumu](https://github.com/matplotlib/cheatsheets) možete naći dobro urađene cheat sheets i savete za korišćenje Mathplotlib bliblioteke."
   ]
  },
  {
   "cell_type": "code",
   "execution_count": 66,
   "metadata": {
    "pycharm": {
     "name": "#%%\n"
    },
    "ExecuteTime": {
     "end_time": "2024-05-31T17:07:16.712124Z",
     "start_time": "2024-05-31T17:07:16.577595Z"
    }
   },
   "outputs": [
    {
     "data": {
      "text/plain": "<Figure size 700x600 with 1 Axes>",
      "image/png": "[encoded data removed]"
     },
     "metadata": {},
     "output_type": "display_data"
    }
   ],
   "source": [
    "fig, ax = plt.subplots(figsize=(7,6))\n",
    "\n",
    "x = tot_sales_per_month.index\n",
    "y = tot_sales_per_month.values\n",
    "\n",
    "ax.bar(x, y)\n",
    "\n",
    "ax.set_xlabel('Months')\n",
    "ax.set_ylabel('Revenue in million USD')\n",
    "ax.set_xticks(range(1,13))\n",
    "ax.set_title('Monthly sales revenue')\n",
    "\n",
    "plt.show()"
   ]
  },
  {
   "cell_type": "markdown",
   "metadata": {
    "pycharm": {
     "name": "#%% md\n"
    }
   },
   "source": [
    "### Zadatak 2. Iz kog grada je naručeno najviše proizvoda?\n",
    "\n",
    "Za potrebe ovog zadatka, grupisaćemo porudžbine prema gradu iz koga dolaze:"
   ]
  },
  {
   "cell_type": "code",
   "execution_count": 67,
   "metadata": {
    "pycharm": {
     "name": "#%%\n"
    },
    "ExecuteTime": {
     "end_time": "2024-05-31T17:27:15.907425Z",
     "start_time": "2024-05-31T17:27:15.886392Z"
    }
   },
   "outputs": [
    {
     "data": {
      "text/plain": "Purchase_city\nAtlanta (GA)          16602.0\nAustin (TX)           11153.0\nBoston (MA)           22528.0\nDallas (TX)           16730.0\nLos Angeles (CA)      33289.0\nNew York City (NY)    27932.0\nPortland (ME)          2750.0\nPortland (OR)         11303.0\nSan Francisco (CA)    50239.0\nSeattle (WA)          16553.0\nName: Quantity_Ordered, dtype: float64"
     },
     "execution_count": 67,
     "metadata": {},
     "output_type": "execute_result"
    }
   ],
   "source": [
    "quantity_per_city = sales.groupby('Purchase_city')['Quantity_Ordered'].sum()\n",
    "quantity_per_city"
   ]
  },
  {
   "cell_type": "markdown",
   "metadata": {
    "pycharm": {
     "name": "#%% md\n"
    }
   },
   "source": [
    "Sortiraćemo rezultate u opadajućem redosledu naručene količine:"
   ]
  },
  {
   "cell_type": "code",
   "execution_count": 68,
   "metadata": {
    "pycharm": {
     "name": "#%%\n"
    },
    "ExecuteTime": {
     "end_time": "2024-05-31T17:27:34.375659Z",
     "start_time": "2024-05-31T17:27:34.371392Z"
    }
   },
   "outputs": [
    {
     "data": {
      "text/plain": "Purchase_city\nSan Francisco (CA)    50239.0\nLos Angeles (CA)      33289.0\nNew York City (NY)    27932.0\nBoston (MA)           22528.0\nDallas (TX)           16730.0\nAtlanta (GA)          16602.0\nSeattle (WA)          16553.0\nPortland (OR)         11303.0\nAustin (TX)           11153.0\nPortland (ME)          2750.0\nName: Quantity_Ordered, dtype: float64"
     },
     "execution_count": 68,
     "metadata": {},
     "output_type": "execute_result"
    }
   ],
   "source": [
    "quantity_per_city.sort_values(ascending=False, inplace=True)\n",
    "quantity_per_city"
   ]
  },
  {
   "cell_type": "markdown",
   "metadata": {
    "pycharm": {
     "name": "#%% md\n"
    }
   },
   "source": [
    "Na kraju, prikazaćemo rezultate vizuelno primenom bar plota.\n",
    "\n",
    "Napomena: za fina podešavanja prikaza plota, brojne korisne metode se mogu naći u [ovom delu](https://matplotlib.org/stable/api/axes_api.html) Matplotlib dokumentacije"
   ]
  },
  {
   "cell_type": "code",
   "execution_count": 69,
   "metadata": {
    "pycharm": {
     "name": "#%%\n"
    },
    "ExecuteTime": {
     "end_time": "2024-05-31T17:28:50.634739Z",
     "start_time": "2024-05-31T17:28:50.514991Z"
    }
   },
   "outputs": [
    {
     "data": {
      "text/plain": "<Figure size 640x480 with 1 Axes>",
      "image/png": "[encoded data removed]"
     },
     "metadata": {},
     "output_type": "display_data"
    }
   ],
   "source": [
    "x = quantity_per_city.index\n",
    "y = quantity_per_city.values\n",
    "\n",
    "_, ax = plt.subplots()\n",
    "ax.bar(x, y, color='purple')\n",
    "ax.set_ylabel(\"Quantity ordered\")\n",
    "ax.set_title(\"Total number of ordered products per city\")\n",
    "ax.tick_params(axis='x', labelrotation=90, labelsize=9)\n",
    "\n",
    "plt.show()"
   ]
  },
  {
   "cell_type": "markdown",
   "metadata": {
    "pycharm": {
     "name": "#%% md\n"
    }
   },
   "source": [
    "### Zadatak 3. Kada, tokom dana, klijenti imaju tendenciju da naprave najvrednije porudžbine?\n",
    "\n",
    "Da bismo odgovorili na ovo pitanje, potrebno je da izdvojimo sate iz `Order_Date` kolone i utvrdimo prosečnu ukupnu cenu porudžbine za svaki sat u toku dana"
   ]
  },
  {
   "cell_type": "markdown",
   "metadata": {
    "pycharm": {
     "name": "#%% md\n"
    }
   },
   "source": [
    "**Korak 1**: Kreiranje 'Order_Hour' kolone"
   ]
  },
  {
   "cell_type": "code",
   "execution_count": 70,
   "metadata": {
    "pycharm": {
     "name": "#%%\n"
    },
    "ExecuteTime": {
     "end_time": "2024-05-31T17:54:02.058033Z",
     "start_time": "2024-05-31T17:54:02.050427Z"
    }
   },
   "outputs": [],
   "source": [
    "sales['Order_Hour'] = sales.Order_Date.dt.hour"
   ]
  },
  {
   "cell_type": "code",
   "execution_count": 71,
   "metadata": {
    "pycharm": {
     "name": "#%%\n"
    },
    "ExecuteTime": {
     "end_time": "2024-05-31T17:54:09.594811Z",
     "start_time": "2024-05-31T17:54:09.585921Z"
    }
   },
   "outputs": [
    {
     "data": {
      "text/plain": "                Order_Date  Order_Hour\n46266  2019-12-18 12:33:00          12\n144988 2019-11-07 11:16:00          11\n112294 2019-03-08 22:18:00          22\n39752  2019-12-25 15:34:00          15\n116583 2019-03-25 22:36:00          22",
      "text/html": "<div>\n<style scoped>\n    .dataframe tbody tr th:only-of-type {\n        vertical-align: middle;\n    }\n\n    .dataframe tbody tr th {\n        vertical-align: top;\n    }\n\n    .dataframe thead th {\n        text-align: right;\n    }\n</style>\n<table border=\"1\" class=\"dataframe\">\n  <thead>\n    <tr style=\"text-align: right;\">\n      <th></th>\n      <th>Order_Date</th>\n      <th>Order_Hour</th>\n    </tr>\n  </thead>\n  <tbody>\n    <tr>\n      <th>46266</th>\n      <td>2019-12-18 12:33:00</td>\n      <td>12</td>\n    </tr>\n    <tr>\n      <th>144988</th>\n      <td>2019-11-07 11:16:00</td>\n      <td>11</td>\n    </tr>\n    <tr>\n      <th>112294</th>\n      <td>2019-03-08 22:18:00</td>\n      <td>22</td>\n    </tr>\n    <tr>\n      <th>39752</th>\n      <td>2019-12-25 15:34:00</td>\n      <td>15</td>\n    </tr>\n    <tr>\n      <th>116583</th>\n      <td>2019-03-25 22:36:00</td>\n      <td>22</td>\n    </tr>\n  </tbody>\n</table>\n</div>"
     },
     "execution_count": 71,
     "metadata": {},
     "output_type": "execute_result"
    }
   ],
   "source": [
    "sales[['Order_Date', 'Order_Hour']].sample(5)"
   ]
  },
  {
   "cell_type": "markdown",
   "metadata": {
    "pycharm": {
     "name": "#%% md\n"
    }
   },
   "source": [
    "**Korak 2**: Grupisanje narudžbina na osnovu `Order_Hour` i izračuvanje prosečne vrednosti `Total_Price` varijable za svaku grupu"
   ]
  },
  {
   "cell_type": "code",
   "execution_count": 72,
   "metadata": {
    "pycharm": {
     "name": "#%%\n"
    },
    "ExecuteTime": {
     "end_time": "2024-05-31T17:56:04.254685Z",
     "start_time": "2024-05-31T17:56:04.245118Z"
    }
   },
   "outputs": [
    {
     "data": {
      "text/plain": "Order_Hour\n0     182.537409\n1     196.113566\n2     188.939212\n3     175.400590\n4     190.469567\n5     174.625148\n6     180.545125\n7     185.702847\n8     190.592866\n9     187.360606\n10    177.657782\n11    185.368644\n12    184.064617\n13    177.705483\n14    189.700722\n15    190.815686\n16    183.416921\n17    195.372200\n18    180.728689\n19    186.977028\n20    186.597664\n21    186.979293\n22    182.220495\n23    187.936963\nName: Total_Price, dtype: float64"
     },
     "execution_count": 72,
     "metadata": {},
     "output_type": "execute_result"
    }
   ],
   "source": [
    "mean_sales_per_hour = sales.groupby('Order_Hour')['Total_Price'].mean()\n",
    "mean_sales_per_hour"
   ]
  },
  {
   "cell_type": "markdown",
   "metadata": {
    "pycharm": {
     "name": "#%% md\n"
    }
   },
   "source": [
    "Sortirati rezultate u opadajućem redosledu prosečne ukupne vrednosti narudžbina"
   ]
  },
  {
   "cell_type": "code",
   "execution_count": 73,
   "metadata": {
    "pycharm": {
     "name": "#%%\n"
    },
    "ExecuteTime": {
     "end_time": "2024-05-31T17:56:50.131645Z",
     "start_time": "2024-05-31T17:56:50.127594Z"
    }
   },
   "outputs": [
    {
     "data": {
      "text/plain": "Order_Hour\n1     196.113566\n17    195.372200\n15    190.815686\n8     190.592866\n4     190.469567\n14    189.700722\n2     188.939212\n23    187.936963\n9     187.360606\n21    186.979293\n19    186.977028\n20    186.597664\n7     185.702847\n11    185.368644\n12    184.064617\n16    183.416921\n0     182.537409\n22    182.220495\n18    180.728689\n6     180.545125\n13    177.705483\n10    177.657782\n3     175.400590\n5     174.625148\nName: Total_Price, dtype: float64"
     },
     "execution_count": 73,
     "metadata": {},
     "output_type": "execute_result"
    }
   ],
   "source": [
    "mean_sales_per_hour.sort_values(ascending=False)"
   ]
  },
  {
   "cell_type": "markdown",
   "metadata": {
    "pycharm": {
     "name": "#%% md\n"
    }
   },
   "source": [
    "Prikaz rezultata u formi linijskog plota"
   ]
  },
  {
   "cell_type": "code",
   "execution_count": 86,
   "metadata": {
    "pycharm": {
     "name": "#%%\n"
    },
    "ExecuteTime": {
     "end_time": "2024-05-31T18:01:38.535876Z",
     "start_time": "2024-05-31T18:01:38.322523Z"
    }
   },
   "outputs": [
    {
     "data": {
      "text/plain": "<Figure size 800x600 with 1 Axes>",
      "image/png": "[encoded data removed]"
     },
     "metadata": {},
     "output_type": "display_data"
    }
   ],
   "source": [
    "x = mean_sales_per_hour.index\n",
    "y = mean_sales_per_hour.values\n",
    "\n",
    "_, ax = plt.subplots(figsize=(8,6))\n",
    "ax.plot(x, y, color='darkred', marker='*')\n",
    "ax.set_xlabel(\"Hours\")\n",
    "ax.set_ylabel(\"Mean price per order in USD\")\n",
    "ax.set_title(\"Mean price per order throughout a day\")\n",
    "ax.set_xticks(range(24))\n",
    "ax.grid(visible=True, axis='both', which='both', color='lightgrey')\n",
    "\n",
    "plt.show()"
   ]
  },
  {
   "cell_type": "markdown",
   "metadata": {
    "pycharm": {
     "name": "#%% md\n"
    }
   },
   "source": [
    "### Zadatak 4. Koji proizvodi su se najviše prodavali tokom 2019. god? Koji proizvodi su najviše doprineli ukupnom prihodu?\n",
    "\n",
    "Prvo ćemo utvrditi koliko različitih proizvoda postoji i koliko često su bili naručeni"
   ]
  },
  {
   "cell_type": "code",
   "execution_count": 87,
   "metadata": {
    "pycharm": {
     "name": "#%%\n"
    },
    "ExecuteTime": {
     "end_time": "2024-05-31T18:09:13.866519Z",
     "start_time": "2024-05-31T18:09:13.853152Z"
    }
   },
   "outputs": [
    {
     "data": {
      "text/plain": "19"
     },
     "execution_count": 87,
     "metadata": {},
     "output_type": "execute_result"
    }
   ],
   "source": [
    "sales.Product.nunique()"
   ]
  },
  {
   "cell_type": "code",
   "execution_count": 88,
   "metadata": {
    "pycharm": {
     "name": "#%%\n"
    },
    "ExecuteTime": {
     "end_time": "2024-05-31T18:09:38.236855Z",
     "start_time": "2024-05-31T18:09:38.225625Z"
    }
   },
   "outputs": [
    {
     "data": {
      "text/plain": "Product\nUSB-C Charging Cable          21903\nLightning Charging Cable      21658\nAAA Batteries (4-pack)        20641\nAA Batteries (4-pack)         20577\nWired Headphones              18882\nApple Airpods Headphones      15549\nBose SoundSport Headphones    13325\n27in FHD Monitor               7507\niPhone                         6842\n27in 4K Gaming Monitor         6230\n34in Ultrawide Monitor         6181\nGoogle Phone                   5525\nFlatscreen TV                  4800\nMacbook Pro Laptop             4724\nThinkPad Laptop                4128\n20in Monitor                   4101\nVareebadd Phone                2065\nLG Washing Machine              666\nLG Dryer                        646\nName: count, dtype: int64"
     },
     "execution_count": 88,
     "metadata": {},
     "output_type": "execute_result"
    }
   ],
   "source": [
    "sales.Product.value_counts()"
   ]
  },
  {
   "cell_type": "markdown",
   "metadata": {
    "pycharm": {
     "name": "#%% md\n"
    }
   },
   "source": [
    "Gornja pandas serija nam daje broj porudžbina u kojima se pojavio proizvod, ali ne govori nam o količinama koje su naručene.\n",
    "\n",
    "Potrebno je da za svaki proizvod, uzmemo ukupnu naručenu količinu i ukupnu cenu za sve porudžbine koje se odnose na taj proizvod:"
   ]
  },
  {
   "cell_type": "code",
   "execution_count": 89,
   "metadata": {
    "pycharm": {
     "name": "#%%\n"
    },
    "ExecuteTime": {
     "end_time": "2024-05-31T18:11:51.791204Z",
     "start_time": "2024-05-31T18:11:51.771704Z"
    }
   },
   "outputs": [
    {
     "data": {
      "text/plain": "                            Quantity_Ordered  Total_Price\nProduct                                                  \n20in Monitor                          4129.0    454148.71\n27in 4K Gaming Monitor                6244.0   2435097.56\n27in FHD Monitor                      7550.0   1132424.50\n34in Ultrawide Monitor                6199.0   2355558.01\nAA Batteries (4-pack)                27635.0    106118.40\nAAA Batteries (4-pack)               31017.0     92740.83\nApple Airpods Headphones             15661.0   2349150.00\nBose SoundSport Headphones           13457.0   1345565.43\nFlatscreen TV                         4819.0   1445700.00\nGoogle Phone                          5532.0   3319200.00\nLG Dryer                               646.0    387600.00\nLG Washing Machine                     666.0    399600.00\nLightning Charging Cable             23217.0    347094.15\nMacbook Pro Laptop                    4728.0   8037600.00\nThinkPad Laptop                       4130.0   4129958.70\nUSB-C Charging Cable                 23975.0    286501.25\nVareebadd Phone                       2068.0    827200.00\nWired Headphones                     20557.0    246478.43\niPhone                                6849.0   4794300.00",
      "text/html": "<div>\n<style scoped>\n    .dataframe tbody tr th:only-of-type {\n        vertical-align: middle;\n    }\n\n    .dataframe tbody tr th {\n        vertical-align: top;\n    }\n\n    .dataframe thead th {\n        text-align: right;\n    }\n</style>\n<table border=\"1\" class=\"dataframe\">\n  <thead>\n    <tr style=\"text-align: right;\">\n      <th></th>\n      <th>Quantity_Ordered</th>\n      <th>Total_Price</th>\n    </tr>\n    <tr>\n      <th>Product</th>\n      <th></th>\n      <th></th>\n    </tr>\n  </thead>\n  <tbody>\n    <tr>\n      <th>20in Monitor</th>\n      <td>4129.0</td>\n      <td>454148.71</td>\n    </tr>\n    <tr>\n      <th>27in 4K Gaming Monitor</th>\n      <td>6244.0</td>\n      <td>2435097.56</td>\n    </tr>\n    <tr>\n      <th>27in FHD Monitor</th>\n      <td>7550.0</td>\n      <td>1132424.50</td>\n    </tr>\n    <tr>\n      <th>34in Ultrawide Monitor</th>\n      <td>6199.0</td>\n      <td>2355558.01</td>\n    </tr>\n    <tr>\n      <th>AA Batteries (4-pack)</th>\n      <td>27635.0</td>\n      <td>106118.40</td>\n    </tr>\n    <tr>\n      <th>AAA Batteries (4-pack)</th>\n      <td>31017.0</td>\n      <td>92740.83</td>\n    </tr>\n    <tr>\n      <th>Apple Airpods Headphones</th>\n      <td>15661.0</td>\n      <td>2349150.00</td>\n    </tr>\n    <tr>\n      <th>Bose SoundSport Headphones</th>\n      <td>13457.0</td>\n      <td>1345565.43</td>\n    </tr>\n    <tr>\n      <th>Flatscreen TV</th>\n      <td>4819.0</td>\n      <td>1445700.00</td>\n    </tr>\n    <tr>\n      <th>Google Phone</th>\n      <td>5532.0</td>\n      <td>3319200.00</td>\n    </tr>\n    <tr>\n      <th>LG Dryer</th>\n      <td>646.0</td>\n      <td>387600.00</td>\n    </tr>\n    <tr>\n      <th>LG Washing Machine</th>\n      <td>666.0</td>\n      <td>399600.00</td>\n    </tr>\n    <tr>\n      <th>Lightning Charging Cable</th>\n      <td>23217.0</td>\n      <td>347094.15</td>\n    </tr>\n    <tr>\n      <th>Macbook Pro Laptop</th>\n      <td>4728.0</td>\n      <td>8037600.00</td>\n    </tr>\n    <tr>\n      <th>ThinkPad Laptop</th>\n      <td>4130.0</td>\n      <td>4129958.70</td>\n    </tr>\n    <tr>\n      <th>USB-C Charging Cable</th>\n      <td>23975.0</td>\n      <td>286501.25</td>\n    </tr>\n    <tr>\n      <th>Vareebadd Phone</th>\n      <td>2068.0</td>\n      <td>827200.00</td>\n    </tr>\n    <tr>\n      <th>Wired Headphones</th>\n      <td>20557.0</td>\n      <td>246478.43</td>\n    </tr>\n    <tr>\n      <th>iPhone</th>\n      <td>6849.0</td>\n      <td>4794300.00</td>\n    </tr>\n  </tbody>\n</table>\n</div>"
     },
     "execution_count": 89,
     "metadata": {},
     "output_type": "execute_result"
    }
   ],
   "source": [
    "product_sales = sales.groupby('Product')[['Quantity_Ordered', 'Total_Price']].sum()\n",
    "product_sales"
   ]
  },
  {
   "cell_type": "markdown",
   "metadata": {
    "pycharm": {
     "name": "#%% md\n"
    }
   },
   "source": [
    "Odredićemo top 5 proizvoda po ostvarenom obimu prodaje:"
   ]
  },
  {
   "cell_type": "code",
   "execution_count": 90,
   "metadata": {
    "pycharm": {
     "name": "#%%\n"
    },
    "ExecuteTime": {
     "end_time": "2024-05-31T18:12:59.018489Z",
     "start_time": "2024-05-31T18:12:59.011576Z"
    }
   },
   "outputs": [
    {
     "data": {
      "text/plain": "                          Quantity_Ordered  Total_Price\nProduct                                                \nAAA Batteries (4-pack)             31017.0     92740.83\nAA Batteries (4-pack)              27635.0    106118.40\nUSB-C Charging Cable               23975.0    286501.25\nLightning Charging Cable           23217.0    347094.15\nWired Headphones                   20557.0    246478.43",
      "text/html": "<div>\n<style scoped>\n    .dataframe tbody tr th:only-of-type {\n        vertical-align: middle;\n    }\n\n    .dataframe tbody tr th {\n        vertical-align: top;\n    }\n\n    .dataframe thead th {\n        text-align: right;\n    }\n</style>\n<table border=\"1\" class=\"dataframe\">\n  <thead>\n    <tr style=\"text-align: right;\">\n      <th></th>\n      <th>Quantity_Ordered</th>\n      <th>Total_Price</th>\n    </tr>\n    <tr>\n      <th>Product</th>\n      <th></th>\n      <th></th>\n    </tr>\n  </thead>\n  <tbody>\n    <tr>\n      <th>AAA Batteries (4-pack)</th>\n      <td>31017.0</td>\n      <td>92740.83</td>\n    </tr>\n    <tr>\n      <th>AA Batteries (4-pack)</th>\n      <td>27635.0</td>\n      <td>106118.40</td>\n    </tr>\n    <tr>\n      <th>USB-C Charging Cable</th>\n      <td>23975.0</td>\n      <td>286501.25</td>\n    </tr>\n    <tr>\n      <th>Lightning Charging Cable</th>\n      <td>23217.0</td>\n      <td>347094.15</td>\n    </tr>\n    <tr>\n      <th>Wired Headphones</th>\n      <td>20557.0</td>\n      <td>246478.43</td>\n    </tr>\n  </tbody>\n</table>\n</div>"
     },
     "execution_count": 90,
     "metadata": {},
     "output_type": "execute_result"
    }
   ],
   "source": [
    "product_sales.sort_values(by='Quantity_Ordered', ascending=False).head(5)"
   ]
  },
  {
   "cell_type": "markdown",
   "metadata": {
    "pycharm": {
     "name": "#%% md\n"
    }
   },
   "source": [
    "Takođe, top 5 proizvoda po ostvarenom prihodu:"
   ]
  },
  {
   "cell_type": "code",
   "execution_count": 91,
   "metadata": {
    "pycharm": {
     "name": "#%%\n"
    },
    "ExecuteTime": {
     "end_time": "2024-05-31T18:13:10.570840Z",
     "start_time": "2024-05-31T18:13:10.564686Z"
    }
   },
   "outputs": [
    {
     "data": {
      "text/plain": "                        Quantity_Ordered  Total_Price\nProduct                                              \nMacbook Pro Laptop                4728.0   8037600.00\niPhone                            6849.0   4794300.00\nThinkPad Laptop                   4130.0   4129958.70\nGoogle Phone                      5532.0   3319200.00\n27in 4K Gaming Monitor            6244.0   2435097.56",
      "text/html": "<div>\n<style scoped>\n    .dataframe tbody tr th:only-of-type {\n        vertical-align: middle;\n    }\n\n    .dataframe tbody tr th {\n        vertical-align: top;\n    }\n\n    .dataframe thead th {\n        text-align: right;\n    }\n</style>\n<table border=\"1\" class=\"dataframe\">\n  <thead>\n    <tr style=\"text-align: right;\">\n      <th></th>\n      <th>Quantity_Ordered</th>\n      <th>Total_Price</th>\n    </tr>\n    <tr>\n      <th>Product</th>\n      <th></th>\n      <th></th>\n    </tr>\n  </thead>\n  <tbody>\n    <tr>\n      <th>Macbook Pro Laptop</th>\n      <td>4728.0</td>\n      <td>8037600.00</td>\n    </tr>\n    <tr>\n      <th>iPhone</th>\n      <td>6849.0</td>\n      <td>4794300.00</td>\n    </tr>\n    <tr>\n      <th>ThinkPad Laptop</th>\n      <td>4130.0</td>\n      <td>4129958.70</td>\n    </tr>\n    <tr>\n      <th>Google Phone</th>\n      <td>5532.0</td>\n      <td>3319200.00</td>\n    </tr>\n    <tr>\n      <th>27in 4K Gaming Monitor</th>\n      <td>6244.0</td>\n      <td>2435097.56</td>\n    </tr>\n  </tbody>\n</table>\n</div>"
     },
     "execution_count": 91,
     "metadata": {},
     "output_type": "execute_result"
    }
   ],
   "source": [
    "product_sales.sort_values(by='Total_Price', ascending=False).head(5)"
   ]
  },
  {
   "cell_type": "markdown",
   "metadata": {
    "pycharm": {
     "name": "#%% md\n"
    }
   },
   "source": [
    "Predstavićemo ove rezultate i vizuelno. Konkretno, napravićemo dve horizontalna bar plota, jedan pored drugog, pri čemu će prvi prikazivati ukupan prihod po proizvodu, a drugi prodatu količinu proizvoda. Sortiraćemo plotove na osnovu ukupnog prihoda, tako da proizvodi sa najvećim prihodom budu prikazani pri vrhu plota.\n",
    "\n",
    "Smernice za kreiranje horizontalnog bar plota možete naći, na primer, u [ovom primeru](https://matplotlib.org/stable/gallery/lines_bars_and_markers/barh.html) iz Mathplotlib dokumentacije."
   ]
  },
  {
   "cell_type": "code",
   "execution_count": 92,
   "metadata": {
    "pycharm": {
     "name": "#%%\n"
    },
    "ExecuteTime": {
     "end_time": "2024-05-31T18:14:41.955444Z",
     "start_time": "2024-05-31T18:14:41.781808Z"
    }
   },
   "outputs": [
    {
     "data": {
      "text/plain": "<Figure size 700x800 with 2 Axes>",
      "image/png": "[encoded data removed]"
     },
     "metadata": {},
     "output_type": "display_data"
    }
   ],
   "source": [
    "product_sales.sort_values(by=\"Total_Price\", inplace=True)\n",
    "\n",
    "x = product_sales.index\n",
    "y1 = product_sales.Total_Price\n",
    "y2 = product_sales.Quantity_Ordered\n",
    "\n",
    "_, (ax1, ax2) = plt.subplots(nrows=1, ncols=2, sharey=True, figsize=(7,8))\n",
    "ax1.barh(x, y1, color='lightseagreen')\n",
    "ax1.set_title(\"Total product earnings\")\n",
    "ax1.set_xlabel(\"Earnings in million USD\")\n",
    "ax1.grid(axis='x', visible=True, which='major', color='lightgrey')\n",
    "\n",
    "ax2.barh(x, y2, color='purple')\n",
    "ax2.set_title(\"Total sold quantity\")\n",
    "ax2.set_xlabel(\"Quantity\")\n",
    "\n",
    "ax2.grid(axis='x', visible=True, which='major', color='lightgrey')\n",
    "\n",
    "plt.show()"
   ]
  },
  {
   "cell_type": "markdown",
   "metadata": {
    "pycharm": {
     "name": "#%% md\n"
    }
   },
   "source": [
    "### Zadatak 5. Pregled ostvarenog prihoda od prodaje po proizvodima i gradovima"
   ]
  },
  {
   "cell_type": "markdown",
   "metadata": {
    "pycharm": {
     "name": "#%% md\n"
    }
   },
   "source": [
    "Podatke možemo grupisati na osnovu više od jednog atributa (kolone). U ovom slučaju, izvršićemo grupisanje na osnovu proizvoda i grada iz koga je porudžbina stigla, i izračunati ukupan prihod za svaki proizvod u svakom gradu:"
   ]
  },
  {
   "cell_type": "code",
   "execution_count": 95,
   "metadata": {
    "pycharm": {
     "name": "#%%\n"
    },
    "ExecuteTime": {
     "end_time": "2024-05-31T18:27:46.566125Z",
     "start_time": "2024-05-31T18:27:46.541799Z"
    }
   },
   "outputs": [
    {
     "data": {
      "text/plain": "Product       Purchase_city     \n20in Monitor  Atlanta (GA)            37616.58\n              Austin (TX)             25297.70\n              Boston (MA)             43336.06\n              Dallas (TX)             37726.57\n              Los Angeles (CA)        72373.42\n                                       ...    \niPhone        New York City (NY)     616700.00\n              Portland (ME)           55300.00\n              Portland (OR)          259700.00\n              San Francisco (CA)    1162700.00\n              Seattle (WA)           382200.00\nName: Total_Price, Length: 190, dtype: float64"
     },
     "execution_count": 95,
     "metadata": {},
     "output_type": "execute_result"
    }
   ],
   "source": [
    "sales_per_product_and_city = sales.groupby(['Product', 'Purchase_city'])['Total_Price'].sum()\n",
    "sales_per_product_and_city"
   ]
  },
  {
   "cell_type": "markdown",
   "metadata": {
    "pycharm": {
     "name": "#%% md\n"
    }
   },
   "source": [
    "Primetite da smo kao rezultat dobili pandas seriju sa dva indeksa - `Product` i `Purchase_City`:"
   ]
  },
  {
   "cell_type": "code",
   "execution_count": 94,
   "metadata": {
    "pycharm": {
     "name": "#%%\n"
    },
    "ExecuteTime": {
     "end_time": "2024-05-31T18:27:33.021303Z",
     "start_time": "2024-05-31T18:27:33.014850Z"
    }
   },
   "outputs": [
    {
     "name": "stdout",
     "output_type": "stream",
     "text": [
      "<class 'pandas.core.series.Series'>\n",
      "MultiIndex: 190 entries, ('20in Monitor', 'Atlanta (GA)') to ('iPhone', 'Seattle (WA)')\n",
      "Series name: Total_Price\n",
      "Non-Null Count  Dtype  \n",
      "--------------  -----  \n",
      "190 non-null    float64\n",
      "dtypes: float64(1)\n",
      "memory usage: 2.7+ KB\n"
     ]
    }
   ],
   "source": [
    "sales_per_product_and_city.info()"
   ]
  },
  {
   "cell_type": "code",
   "execution_count": 96,
   "metadata": {
    "pycharm": {
     "name": "#%%\n"
    },
    "ExecuteTime": {
     "end_time": "2024-05-31T18:27:58.886471Z",
     "start_time": "2024-05-31T18:27:58.881755Z"
    }
   },
   "outputs": [
    {
     "data": {
      "text/plain": "MultiIndex([('20in Monitor',       'Atlanta (GA)'),\n            ('20in Monitor',        'Austin (TX)'),\n            ('20in Monitor',        'Boston (MA)'),\n            ('20in Monitor',        'Dallas (TX)'),\n            ('20in Monitor',   'Los Angeles (CA)'),\n            ('20in Monitor', 'New York City (NY)'),\n            ('20in Monitor',      'Portland (ME)'),\n            ('20in Monitor',      'Portland (OR)'),\n            ('20in Monitor', 'San Francisco (CA)'),\n            ('20in Monitor',       'Seattle (WA)'),\n            ...\n            (      'iPhone',       'Atlanta (GA)'),\n            (      'iPhone',        'Austin (TX)'),\n            (      'iPhone',        'Boston (MA)'),\n            (      'iPhone',        'Dallas (TX)'),\n            (      'iPhone',   'Los Angeles (CA)'),\n            (      'iPhone', 'New York City (NY)'),\n            (      'iPhone',      'Portland (ME)'),\n            (      'iPhone',      'Portland (OR)'),\n            (      'iPhone', 'San Francisco (CA)'),\n            (      'iPhone',       'Seattle (WA)')],\n           names=['Product', 'Purchase_city'], length=190)"
     },
     "execution_count": 96,
     "metadata": {},
     "output_type": "execute_result"
    }
   ],
   "source": [
    "sales_per_product_and_city.index"
   ]
  },
  {
   "cell_type": "markdown",
   "metadata": {
    "pycharm": {
     "name": "#%% md\n"
    }
   },
   "source": [
    "Ovakvu seriju možemo transformisati u data frame uz pomoć `unstack()` metode:"
   ]
  },
  {
   "cell_type": "code",
   "execution_count": 97,
   "metadata": {
    "pycharm": {
     "name": "#%%\n"
    },
    "ExecuteTime": {
     "end_time": "2024-05-31T18:28:47.550025Z",
     "start_time": "2024-05-31T18:28:47.544319Z"
    }
   },
   "outputs": [],
   "source": [
    "product_city_sales_df = sales_per_product_and_city.unstack()"
   ]
  },
  {
   "cell_type": "code",
   "execution_count": 98,
   "metadata": {
    "pycharm": {
     "name": "#%%\n"
    },
    "ExecuteTime": {
     "end_time": "2024-05-31T18:28:52.389043Z",
     "start_time": "2024-05-31T18:28:52.377481Z"
    }
   },
   "outputs": [
    {
     "data": {
      "text/plain": "Purchase_city               Atlanta (GA)  Austin (TX)  Boston (MA)  \\\nProduct                                                              \n20in Monitor                    37616.58     25297.70     43336.06   \n27in 4K Gaming Monitor         192265.07    124016.82    263243.25   \n27in FHD Monitor                88194.12     53996.40    119542.03   \n34in Ultrawide Monitor         183155.18    124636.72    254973.29   \nAA Batteries (4-pack)            8421.12      5468.16     11581.44   \nAAA Batteries (4-pack)           7053.41      4987.32     10348.39   \nApple Airpods Headphones       189900.00    133050.00    247950.00   \nBose SoundSport Headphones     108389.16     70692.93    141585.84   \nFlatscreen TV                  122100.00     72600.00    166200.00   \nGoogle Phone                   270600.00    164400.00    355800.00   \n\nPurchase_city               Dallas (TX)  Los Angeles (CA)  New York City (NY)  \\\nProduct                                                                         \n20in Monitor                   37726.57          72373.42            61594.40   \n27in 4K Gaming Monitor        187585.19         391159.97           328371.58   \n27in FHD Monitor               88044.13         183437.77           160789.28   \n34in Ultrawide Monitor        194554.88         362890.45           329831.32   \nAA Batteries (4-pack)           8682.24          17041.92            13939.20   \nAAA Batteries (4-pack)          7486.96          14851.33            12330.76   \nApple Airpods Headphones      179100.00         370950.00           314700.00   \nBose SoundSport Headphones    106289.37         212478.75           179382.06   \nFlatscreen TV                 126000.00         218100.00           188400.00   \nGoogle Phone                  276600.00         508800.00           454800.00   \n\nPurchase_city               Portland (ME)  Portland (OR)  San Francisco (CA)  \\\nProduct                                                                        \n20in Monitor                      6489.41       24087.81           109990.00   \n27in 4K Gaming Monitor           33149.15      136106.51           569385.40   \n27in FHD Monitor                 17098.86       62395.84           272081.86   \n34in Ultrawide Monitor           28879.24      124256.73           549465.54   \nAA Batteries (4-pack)             1493.76        5952.00            25171.20   \nAAA Batteries (4-pack)            1070.42        5148.78            22149.92   \nApple Airpods Headphones         34950.00      129900.00           559950.00   \nBose SoundSport Headphones       17998.20       70892.91           331666.83   \nFlatscreen TV                    18600.00       75000.00           346200.00   \nGoogle Phone                     46200.00      166800.00           814800.00   \n\nPurchase_city               Seattle (WA)  \nProduct                                   \n20in Monitor                    35636.76  \n27in 4K Gaming Monitor         209814.62  \n27in FHD Monitor                86844.21  \n34in Ultrawide Monitor         202914.66  \nAA Batteries (4-pack)            8367.36  \nAAA Batteries (4-pack)           7313.54  \nApple Airpods Headphones       188700.00  \nBose SoundSport Headphones     106189.38  \nFlatscreen TV                  112500.00  \nGoogle Phone                   260400.00  ",
      "text/html": "<div>\n<style scoped>\n    .dataframe tbody tr th:only-of-type {\n        vertical-align: middle;\n    }\n\n    .dataframe tbody tr th {\n        vertical-align: top;\n    }\n\n    .dataframe thead th {\n        text-align: right;\n    }\n</style>\n<table border=\"1\" class=\"dataframe\">\n  <thead>\n    <tr style=\"text-align: right;\">\n      <th>Purchase_city</th>\n      <th>Atlanta (GA)</th>\n      <th>Austin (TX)</th>\n      <th>Boston (MA)</th>\n      <th>Dallas (TX)</th>\n      <th>Los Angeles (CA)</th>\n      <th>New York City (NY)</th>\n      <th>Portland (ME)</th>\n      <th>Portland (OR)</th>\n      <th>San Francisco (CA)</th>\n      <th>Seattle (WA)</th>\n    </tr>\n    <tr>\n      <th>Product</th>\n      <th></th>\n      <th></th>\n      <th></th>\n      <th></th>\n      <th></th>\n      <th></th>\n      <th></th>\n      <th></th>\n      <th></th>\n      <th></th>\n    </tr>\n  </thead>\n  <tbody>\n    <tr>\n      <th>20in Monitor</th>\n      <td>37616.58</td>\n      <td>25297.70</td>\n      <td>43336.06</td>\n      <td>37726.57</td>\n      <td>72373.42</td>\n      <td>61594.40</td>\n      <td>6489.41</td>\n      <td>24087.81</td>\n      <td>109990.00</td>\n      <td>35636.76</td>\n    </tr>\n    <tr>\n      <th>27in 4K Gaming Monitor</th>\n      <td>192265.07</td>\n      <td>124016.82</td>\n      <td>263243.25</td>\n      <td>187585.19</td>\n      <td>391159.97</td>\n      <td>328371.58</td>\n      <td>33149.15</td>\n      <td>136106.51</td>\n      <td>569385.40</td>\n      <td>209814.62</td>\n    </tr>\n    <tr>\n      <th>27in FHD Monitor</th>\n      <td>88194.12</td>\n      <td>53996.40</td>\n      <td>119542.03</td>\n      <td>88044.13</td>\n      <td>183437.77</td>\n      <td>160789.28</td>\n      <td>17098.86</td>\n      <td>62395.84</td>\n      <td>272081.86</td>\n      <td>86844.21</td>\n    </tr>\n    <tr>\n      <th>34in Ultrawide Monitor</th>\n      <td>183155.18</td>\n      <td>124636.72</td>\n      <td>254973.29</td>\n      <td>194554.88</td>\n      <td>362890.45</td>\n      <td>329831.32</td>\n      <td>28879.24</td>\n      <td>124256.73</td>\n      <td>549465.54</td>\n      <td>202914.66</td>\n    </tr>\n    <tr>\n      <th>AA Batteries (4-pack)</th>\n      <td>8421.12</td>\n      <td>5468.16</td>\n      <td>11581.44</td>\n      <td>8682.24</td>\n      <td>17041.92</td>\n      <td>13939.20</td>\n      <td>1493.76</td>\n      <td>5952.00</td>\n      <td>25171.20</td>\n      <td>8367.36</td>\n    </tr>\n    <tr>\n      <th>AAA Batteries (4-pack)</th>\n      <td>7053.41</td>\n      <td>4987.32</td>\n      <td>10348.39</td>\n      <td>7486.96</td>\n      <td>14851.33</td>\n      <td>12330.76</td>\n      <td>1070.42</td>\n      <td>5148.78</td>\n      <td>22149.92</td>\n      <td>7313.54</td>\n    </tr>\n    <tr>\n      <th>Apple Airpods Headphones</th>\n      <td>189900.00</td>\n      <td>133050.00</td>\n      <td>247950.00</td>\n      <td>179100.00</td>\n      <td>370950.00</td>\n      <td>314700.00</td>\n      <td>34950.00</td>\n      <td>129900.00</td>\n      <td>559950.00</td>\n      <td>188700.00</td>\n    </tr>\n    <tr>\n      <th>Bose SoundSport Headphones</th>\n      <td>108389.16</td>\n      <td>70692.93</td>\n      <td>141585.84</td>\n      <td>106289.37</td>\n      <td>212478.75</td>\n      <td>179382.06</td>\n      <td>17998.20</td>\n      <td>70892.91</td>\n      <td>331666.83</td>\n      <td>106189.38</td>\n    </tr>\n    <tr>\n      <th>Flatscreen TV</th>\n      <td>122100.00</td>\n      <td>72600.00</td>\n      <td>166200.00</td>\n      <td>126000.00</td>\n      <td>218100.00</td>\n      <td>188400.00</td>\n      <td>18600.00</td>\n      <td>75000.00</td>\n      <td>346200.00</td>\n      <td>112500.00</td>\n    </tr>\n    <tr>\n      <th>Google Phone</th>\n      <td>270600.00</td>\n      <td>164400.00</td>\n      <td>355800.00</td>\n      <td>276600.00</td>\n      <td>508800.00</td>\n      <td>454800.00</td>\n      <td>46200.00</td>\n      <td>166800.00</td>\n      <td>814800.00</td>\n      <td>260400.00</td>\n    </tr>\n  </tbody>\n</table>\n</div>"
     },
     "execution_count": 98,
     "metadata": {},
     "output_type": "execute_result"
    }
   ],
   "source": [
    "product_city_sales_df.head(10)"
   ]
  },
  {
   "cell_type": "code",
   "execution_count": 99,
   "outputs": [
    {
     "data": {
      "text/plain": "(19, 10)"
     },
     "execution_count": 99,
     "metadata": {},
     "output_type": "execute_result"
    }
   ],
   "source": [
    "product_city_sales_df.shape"
   ],
   "metadata": {
    "collapsed": false,
    "ExecuteTime": {
     "end_time": "2024-05-31T18:29:17.626061Z",
     "start_time": "2024-05-31T18:29:17.621840Z"
    }
   }
  },
  {
   "cell_type": "markdown",
   "metadata": {
    "pycharm": {
     "name": "#%% md\n"
    }
   },
   "source": [
    "S obzirom da je ovakav prikaz ostvarene prodaje vrlo nepregledan, predstavićemo ga vizuelno, koristeći `heatmap`. \n",
    "\n",
    "Korisne smernice za kreiranje heatmap-e date su, na primer, [ovde](https://python-charts.com/correlation/heatmap-matplotlib/).\n",
    "\n",
    "Na [ovoj stranici](https://matplotlib.org/stable/users/explain/colors/colormaps.html) Matplotlib dokumentacije možete naći pregled predefinisanih kolor mapa."
   ]
  },
  {
   "cell_type": "code",
   "execution_count": 103,
   "metadata": {
    "pycharm": {
     "name": "#%%\n"
    },
    "ExecuteTime": {
     "end_time": "2024-05-31T18:31:18.876503Z",
     "start_time": "2024-05-31T18:31:18.719623Z"
    }
   },
   "outputs": [
    {
     "data": {
      "text/plain": "<Figure size 600x1000 with 2 Axes>",
      "image/png": "[encoded data removed]"
     },
     "metadata": {},
     "output_type": "display_data"
    }
   ],
   "source": [
    "_, ax = plt.subplots(figsize=(6,10))\n",
    "im = ax.imshow(product_city_sales_df, cmap='Spectral_r')\n",
    "\n",
    "# Add the color bar\n",
    "cbar = ax.figure.colorbar(im, ax = ax)\n",
    "\n",
    "# Add the labels\n",
    "x_ticks = product_city_sales_df.columns.tolist()\n",
    "y_ticks = product_city_sales_df.index.tolist()\n",
    "\n",
    "ax.set_xticks(range(len(x_ticks)), labels = x_ticks)\n",
    "ax.tick_params(axis='x', labelrotation=90, labelsize=9)\n",
    "ax.set_yticks(range(len(y_ticks)), labels = y_ticks)\n",
    "ax.tick_params(axis='y', labelsize=9)\n",
    "\n",
    "plt.show()"
   ]
  },
  {
   "cell_type": "markdown",
   "metadata": {
    "pycharm": {
     "name": "#%% md\n"
    }
   },
   "source": [
    "### Zadaci za vežbu\n",
    "\n",
    "1. Uradite pregled ukupnog ostvarenog prihoda po proizvodima i državama.\n",
    "\n",
    "2. Kojih dana, tokom nedelje, je prosečna vrednost porudžbina bila najviša?\n"
   ]
  }
 ],
 "metadata": {
  "kernelspec": {
   "display_name": "Python 3 (ipykernel)",
   "language": "python",
   "name": "python3"
  },
  "language_info": {
   "codemirror_mode": {
    "name": "ipython",
    "version": 3
   },
   "file_extension": ".py",
   "mimetype": "text/x-python",
   "name": "python",
   "nbconvert_exporter": "python",
   "pygments_lexer": "ipython3",
   "version": "3.10.0"
  }
 },
 "nbformat": 4,
 "nbformat_minor": 4
}
